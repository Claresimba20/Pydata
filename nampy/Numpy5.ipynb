{
 "cells": [
  {
   "cell_type": "markdown",
   "metadata": {},
   "source": [
    "# Numpy Exercise 5\n",
    "\n",
    "### All of the questions in this exercise are attributed to rougier/numpy-100"
   ]
  },
  {
   "cell_type": "code",
   "execution_count": 1,
   "metadata": {},
   "outputs": [],
   "source": [
    "import numpy as np"
   ]
  },
  {
   "cell_type": "markdown",
   "metadata": {},
   "source": [
    "#### 61. Find the nearest value from a given value in an array (★★☆)"
   ]
  },
  {
   "cell_type": "code",
   "execution_count": 2,
   "metadata": {},
   "outputs": [
    {
     "name": "stdout",
     "output_type": "stream",
     "text": [
      "22\n"
     ]
    }
   ],
   "source": [
    "arr=np.array([10,22,14,26,35])\n",
    "value=20\n",
    "nearest=arr[np.abs(arr-value).argmin()]\n",
    "print(nearest)"
   ]
  },
  {
   "cell_type": "markdown",
   "metadata": {},
   "source": [
    "#### 62. Considering two arrays with shape (1,3) and (3,1), how to compute their sum using an iterator? (★★☆)"
   ]
  },
  {
   "cell_type": "code",
   "execution_count": 3,
   "metadata": {},
   "outputs": [
    {
     "name": "stdout",
     "output_type": "stream",
     "text": [
      "[[5 6 7]\n",
      " [6 7 8]\n",
      " [7 8 9]]\n"
     ]
    }
   ],
   "source": [
    "a=np.array([[1,2,3]])\n",
    "b=np.array([[4],[5],[6]])\n",
    "it=np.nditer([a,b,None])\n",
    "for x,y,z in it:\n",
    "    z[...]=x+y\n",
    "print(it.operands[2])"
   ]
  },
  {
   "cell_type": "markdown",
   "metadata": {},
   "source": [
    "#### 63. Create an array class that has a name attribute (★★☆)"
   ]
  },
  {
   "cell_type": "code",
   "execution_count": 45,
   "metadata": {},
   "outputs": [],
   "source": [
    "class NamedArray:\n",
    "    def __init__(self, name, elements):\n",
    "        self.name = name\n",
    "        self.elements = np.array(elements)  \n",
    "\n",
    "    def n_largest(self, n):\n",
    "        \"\"\"Return the n largest values in descending order\"\"\"\n",
    "        return np.sort(self.elements)[-n:][::-1]\n",
    "\n",
    "    def add(self, value):\n",
    "        \"\"\"Append a new value\"\"\"\n",
    "        self.elements = np.append(self.elements, value)\n",
    "\n",
    "    def __len__(self):\n",
    "        return len(self.elements)\n",
    "\n",
    "    def __getitem__(self, index):\n",
    "        return self.elements[index]\n",
    "\n",
    "    def __repr__(self):\n",
    "        return f\"NamedArray(name='{self.name}', elements={self.elements})\" \n",
    " "
   ]
  },
  {
   "cell_type": "markdown",
   "metadata": {},
   "source": [
    "#### 64. Consider a given vector, how to add 1 to each element indexed by a second vector (be careful with repeated indices)? (★★★)"
   ]
  },
  {
   "cell_type": "code",
   "execution_count": 5,
   "metadata": {},
   "outputs": [
    {
     "name": "stdout",
     "output_type": "stream",
     "text": [
      "[2 4 3 5 5]\n"
     ]
    }
   ],
   "source": [
    "x = np.array([1, 2, 3, 4, 5])\n",
    "indices = np.array([0, 1, 1, 3])\n",
    "\n",
    "np.add.at(x, indices, 1)\n",
    "print(x)   "
   ]
  },
  {
   "cell_type": "markdown",
   "metadata": {},
   "source": [
    "#### 65. How to accumulate elements of a vector (X) to an array (F) based on an index list (I)? (★★★)"
   ]
  },
  {
   "cell_type": "code",
   "execution_count": 6,
   "metadata": {},
   "outputs": [
    {
     "name": "stdout",
     "output_type": "stream",
     "text": [
      "[1 5 4 0]\n"
     ]
    }
   ],
   "source": [
    "X = np.array([1, 2, 3, 4])\n",
    "I = np.array([0, 1, 1, 2])\n",
    "F = np.zeros(4, dtype=int)\n",
    "\n",
    "np.add.at(F, I, X)\n",
    "print(F)   "
   ]
  },
  {
   "cell_type": "markdown",
   "metadata": {},
   "source": [
    "#### 66. Considering a (w,h,3) image of (dtype=ubyte), compute the number of unique colors (★★☆)"
   ]
  },
  {
   "cell_type": "code",
   "execution_count": 7,
   "metadata": {},
   "outputs": [
    {
     "name": "stdout",
     "output_type": "stream",
     "text": [
      "Unique colors: 16\n"
     ]
    }
   ],
   "source": [
    "w, h = 4, 4\n",
    "image = np.random.randint(0, 256, (w, h, 3), dtype=np.uint8)\n",
    "\n",
    "colors = np.unique(image.reshape(-1, 3), axis=0)\n",
    "print(\"Unique colors:\", len(colors))"
   ]
  },
  {
   "cell_type": "markdown",
   "metadata": {},
   "source": [
    "#### 67. Considering a four dimensions array, how to get sum over the last two axis at once? (★★★)"
   ]
  },
  {
   "cell_type": "code",
   "execution_count": 8,
   "metadata": {},
   "outputs": [
    {
     "name": "stdout",
     "output_type": "stream",
     "text": [
      "Original shape: (2, 3, 4, 5)\n",
      "Result shape after sum: (2, 3)\n"
     ]
    }
   ],
   "source": [
    "arr_4d = np.random.rand(2, 3, 4, 5)\n",
    "\n",
    "sum_result = arr_4d.sum(axis=(-2, -1))\n",
    "\n",
    "print(f\"Original shape: {arr_4d.shape}\")\n",
    "print(f\"Result shape after sum: {sum_result.shape}\")"
   ]
  },
  {
   "cell_type": "markdown",
   "metadata": {},
   "source": [
    "#### 68. Considering a one-dimensional vector D, how to compute means of subsets of D using a vector S of same size describing subset  indices? (★★★)"
   ]
  },
  {
   "cell_type": "code",
   "execution_count": 9,
   "metadata": {},
   "outputs": [
    {
     "name": "stdout",
     "output_type": "stream",
     "text": [
      "Vector D: [ 10  20  30  40  50  60  70  80  90 100]\n",
      "Vector S (indices): [0 0 1 1 1 2 2 3 3 3]\n",
      "Means of subsets: [15. 40. 65. 90.]\n"
     ]
    }
   ],
   "source": [
    "D = np.array([10, 20, 30, 40, 50, 60, 70, 80, 90, 100])\n",
    "# Vector S describing subset indices\n",
    "S = np.array([0, 0, 1, 1, 1, 2, 2, 3, 3, 3])\n",
    "\n",
    "# Use bincount to sum values within each subset\n",
    "subset_sums = np.bincount(S, weights=D)\n",
    "\n",
    "# Use bincount to count elements in each subset\n",
    "subset_counts = np.bincount(S)\n",
    "\n",
    "# Compute the mean\n",
    "subset_means = subset_sums / subset_counts\n",
    "\n",
    "print(f\"Vector D: {D}\")\n",
    "print(f\"Vector S (indices): {S}\")\n",
    "print(f\"Means of subsets: {subset_means}\")"
   ]
  },
  {
   "cell_type": "markdown",
   "metadata": {},
   "source": [
    "#### 69. How to get the diagonal of a dot product? (★★★)"
   ]
  },
  {
   "cell_type": "code",
   "execution_count": 10,
   "metadata": {},
   "outputs": [
    {
     "name": "stdout",
     "output_type": "stream",
     "text": [
      "Matrix A:\n",
      "[[0 1 2]\n",
      " [3 4 5]\n",
      " [6 7 8]]\n",
      "\n",
      "Matrix B:\n",
      "[[6 7 8]\n",
      " [3 4 5]\n",
      " [0 1 2]]\n",
      "\n",
      "Diagonal of dot product (np.dot + np.diag): [ 3 42 99]\n"
     ]
    }
   ],
   "source": [
    "\n",
    "A = np.arange(9).reshape(3, 3)\n",
    "B = A[::-1, :]  \n",
    "\n",
    "dot_product = np.dot(A, B)\n",
    "diagonal_result = np.diag(dot_product)\n",
    "\n",
    "\n",
    "print(f\"Matrix A:\\n{A}\")\n",
    "print(f\"\\nMatrix B:\\n{B}\")\n",
    "print(f\"\\nDiagonal of dot product (np.dot + np.diag): {diagonal_result}\")"
   ]
  },
  {
   "cell_type": "markdown",
   "metadata": {},
   "source": [
    "#### 70. Consider the vector [1, 2, 3, 4, 5], how to build a new vector with 3 consecutive zeros interleaved between each value? (★★★)"
   ]
  },
  {
   "cell_type": "code",
   "execution_count": 11,
   "metadata": {},
   "outputs": [
    {
     "name": "stdout",
     "output_type": "stream",
     "text": [
      "Original vector: [1 2 3 4 5]\n",
      "New vector: [1 0 0 0 2 0 0 0 3 0 0 0 4 0 0 0 5]\n"
     ]
    }
   ],
   "source": [
    "# Original vector\n",
    "original_vector = np.array([1, 2, 3, 4, 5])\n",
    "zeros_to_add = 3\n",
    "\n",
    "# Calculate the size of the new vector\n",
    "new_size = len(original_vector) + (len(original_vector) - 1) * zeros_to_add\n",
    "\n",
    "# Create a new array of zeros with the correct size\n",
    "new_vector = np.zeros(new_size, dtype=original_vector.dtype)\n",
    "\n",
    "# Place the original vector elements at the correct intervals\n",
    "new_vector[::zeros_to_add + 1] = original_vector\n",
    "\n",
    "print(f\"Original vector: {original_vector}\")\n",
    "print(f\"New vector: {new_vector}\")"
   ]
  },
  {
   "cell_type": "markdown",
   "metadata": {},
   "source": [
    "#### 71. Consider an array of dimension (5,5,3), how to mulitply it by an array with dimensions (5,5)? (★★★)"
   ]
  },
  {
   "cell_type": "code",
   "execution_count": 12,
   "metadata": {},
   "outputs": [
    {
     "name": "stdout",
     "output_type": "stream",
     "text": [
      "Shape of arr_a: (5, 5, 3)\n",
      "Shape of arr_b: (5, 5)\n",
      "Shape of result: (5, 5, 3)\n"
     ]
    }
   ],
   "source": [
    "\n",
    "arr_a = np.random.rand(5, 5, 3)\n",
    "arr_b = np.random.rand(5, 5)\n",
    "\n",
    "result = arr_a * arr_b[:, :, np.newaxis]\n",
    "\n",
    "print(f\"Shape of arr_a: {arr_a.shape}\")\n",
    "print(f\"Shape of arr_b: {arr_b.shape}\")\n",
    "print(f\"Shape of result: {result.shape}\")"
   ]
  },
  {
   "cell_type": "markdown",
   "metadata": {},
   "source": [
    "#### 72. How to swap two rows of an array? (★★★)"
   ]
  },
  {
   "cell_type": "code",
   "execution_count": 13,
   "metadata": {},
   "outputs": [
    {
     "name": "stdout",
     "output_type": "stream",
     "text": [
      "Original array:\n",
      "[[0 1 2]\n",
      " [3 4 5]\n",
      " [6 7 8]]\n",
      "\n",
      "Array after swapping rows 0 and 2:\n",
      "[[6 7 8]\n",
      " [3 4 5]\n",
      " [0 1 2]]\n"
     ]
    }
   ],
   "source": [
    "# Create a sample array\n",
    "arr = np.arange(9).reshape(3, 3)\n",
    "print(f\"Original array:\\n{arr}\")\n",
    "\n",
    "# Swap row 0 and row 2\n",
    "arr[[0, 2]] = arr[[2, 0]]\n",
    "\n",
    "print(f\"\\nArray after swapping rows 0 and 2:\\n{arr}\")"
   ]
  },
  {
   "cell_type": "markdown",
   "metadata": {},
   "source": [
    "#### 73. Consider a set of 10 triplets describing 10 triangles (with shared vertices), find the set of unique line segments composing all the  triangles (★★★)"
   ]
  },
  {
   "cell_type": "code",
   "execution_count": 14,
   "metadata": {},
   "outputs": [
    {
     "name": "stdout",
     "output_type": "stream",
     "text": [
      "Sample triangles:\n",
      "[[54 91 39]\n",
      " [ 4 19 97]\n",
      " [73 22 19]\n",
      " [33 18 54]\n",
      " [36 86 73]\n",
      " [46 54 87]\n",
      " [25 14 62]\n",
      " [73 63 71]\n",
      " [23 69 13]\n",
      " [82 79  4]]\n",
      "\n",
      "Unique line segments:\n",
      "[[ 4 19]\n",
      " [ 4 79]\n",
      " [ 4 82]\n",
      " [ 4 97]\n",
      " [13 23]\n",
      " [13 69]\n",
      " [14 25]\n",
      " [14 62]\n",
      " [18 33]\n",
      " [18 54]\n",
      " [19 22]\n",
      " [19 73]\n",
      " [19 97]\n",
      " [22 73]\n",
      " [23 69]\n",
      " [25 62]\n",
      " [33 54]\n",
      " [36 73]\n",
      " [36 86]\n",
      " [39 54]\n",
      " [39 91]\n",
      " [46 54]\n",
      " [46 87]\n",
      " [54 87]\n",
      " [54 91]\n",
      " [63 71]\n",
      " [63 73]\n",
      " [71 73]\n",
      " [73 86]\n",
      " [79 82]]\n"
     ]
    }
   ],
   "source": [
    "triangles = np.random.randint(0, 100, (10, 3))\n",
    "print(f\"Sample triangles:\\n{triangles}\")\n",
    "\n",
    "edges = np.concatenate([triangles[:, [0, 1]], triangles[:, [1, 2]], triangles[:, [2, 0]]])\n",
    "\n",
    "edges.sort(axis=1)\n",
    "\n",
    "unique_segments = np.unique(edges, axis=0)\n",
    "\n",
    "print(f\"\\nUnique line segments:\\n{unique_segments}\")"
   ]
  },
  {
   "cell_type": "markdown",
   "metadata": {},
   "source": [
    "#### 74. Given a sorted array C that corresponds to a bincount, how to produce an array A such that np.bincount(A) == C? (★★★)"
   ]
  },
  {
   "cell_type": "code",
   "execution_count": 15,
   "metadata": {},
   "outputs": [
    {
     "name": "stdout",
     "output_type": "stream",
     "text": [
      "Original bincount array C: [0 2 0 1 3 0]\n",
      "Reconstructed array A: [1 1 3 4 4 4]\n",
      "Verifying with np.bincount(A): [0 2 0 1 3]\n"
     ]
    }
   ],
   "source": [
    "C = np.array([0, 2, 0, 1, 3, 0])\n",
    "numbers = np.arange(len(C))\n",
    "A = np.repeat(numbers, C)\n",
    "\n",
    "print(f\"Original bincount array C: {C}\")\n",
    "print(f\"Reconstructed array A: {A}\")\n",
    "print(f\"Verifying with np.bincount(A): {np.bincount(A)}\")"
   ]
  },
  {
   "cell_type": "markdown",
   "metadata": {},
   "source": [
    "#### 75. How to compute averages using a sliding window over an array? (★★★)"
   ]
  },
  {
   "cell_type": "code",
   "execution_count": 16,
   "metadata": {},
   "outputs": [
    {
     "name": "stdout",
     "output_type": "stream",
     "text": [
      "Original array: [ 1  2  3  4  5  6  7  8  9 10]\n",
      "Sliding window averages: [2. 3. 4. 5. 6. 7. 8. 9.]\n"
     ]
    }
   ],
   "source": [
    "arr = np.array([1, 2, 3, 4, 5, 6, 7, 8, 9, 10])\n",
    "\n",
    "window_size = 3\n",
    "\n",
    "window = np.ones(window_size) / window_size\n",
    "\n",
    "sliding_average = np.convolve(arr, window, mode='valid')\n",
    "\n",
    "print(f\"Original array: {arr}\")\n",
    "print(f\"Sliding window averages: {sliding_average}\")"
   ]
  },
  {
   "cell_type": "markdown",
   "metadata": {},
   "source": [
    "#### 76. Consider a one-dimensional array Z, build a two-dimensional array whose first row is (Z[0],Z[1],Z[2]) and each subsequent row is  shifted by 1 (last row should be (Z[-3],Z[-2],Z[-1]) (★★★)"
   ]
  },
  {
   "cell_type": "code",
   "execution_count": 18,
   "metadata": {},
   "outputs": [
    {
     "name": "stdout",
     "output_type": "stream",
     "text": [
      "Original 1D array:\n",
      "[0 1 2 3 4 5 6 7 8 9]\n",
      "\n",
      "Resulting 2D array:\n",
      "[[0 1 2]\n",
      " [1 2 3]\n",
      " [2 3 4]\n",
      " [3 4 5]\n",
      " [4 5 6]\n",
      " [5 6 7]\n",
      " [6 7 8]\n",
      " [7 8 9]]\n"
     ]
    }
   ],
   "source": [
    "\n",
    "from numpy.lib.stride_tricks import as_strided\n",
    "\n",
    "Z = np.arange(10)\n",
    "window_size = 3\n",
    "\n",
    "rows = len(Z) - window_size + 1\n",
    "cols = window_size\n",
    "stride = Z.strides[0]\n",
    "\n",
    "result = as_strided(Z, shape=(rows, cols), strides=(stride, stride))\n",
    "\n",
    "print(f\"Original 1D array:\\n{Z}\")\n",
    "print(f\"\\nResulting 2D array:\\n{result}\")"
   ]
  },
  {
   "cell_type": "markdown",
   "metadata": {},
   "source": [
    "#### 77. How to negate a boolean, or to change the sign of a float inplace? (★★★)"
   ]
  },
  {
   "cell_type": "code",
   "execution_count": 46,
   "metadata": {},
   "outputs": [
    {
     "name": "stdout",
     "output_type": "stream",
     "text": [
      "[False  True False]\n",
      "[-1.5  3.2 -0.  -7.8]\n"
     ]
    }
   ],
   "source": [
    "bool_arr = np.array([True, False, True])\n",
    "np.logical_not(bool_arr, out=bool_arr)   # in-place\n",
    "print(bool_arr) \n",
    "\n",
    "float_arr = np.array([1.5, -3.2, 0.0, 7.8])\n",
    "np.negative(float_arr, out=float_arr)   # in-place\n",
    "print(float_arr) "
   ]
  },
  {
   "cell_type": "markdown",
   "metadata": {},
   "source": [
    "#### 78. Consider 2 sets of points P0,P1 describing lines (2d) and a point p, how to compute distance from p to each line i (P0[i],P1[i])? (★★★)"
   ]
  },
  {
   "cell_type": "code",
   "execution_count": 20,
   "metadata": {},
   "outputs": [
    {
     "name": "stdout",
     "output_type": "stream",
     "text": [
      "Distances (rows are points, columns are lines):\n",
      " [[10.95804087 16.30786495  5.11097867  6.24262376  5.28439654  9.32187518\n",
      "  16.44319248  5.82922162  4.67131034  3.23981649]\n",
      " [ 7.1044199   9.81576804  7.39169045  3.89989709  6.38227588 10.14495289\n",
      "   6.29142805  6.40328585  3.89356672  3.6247441 ]\n",
      " [11.97978552 16.21268234  0.52667157  1.37388078  0.41533194 12.0277619\n",
      "  14.4805366   8.45396331  3.58118791  1.11499418]\n",
      " [ 8.51818405 12.6146433   0.99087892  1.55667122  0.27367251  9.17149246\n",
      "  11.08458982  5.55497615  0.02042781  0.31164457]\n",
      " [ 8.43696325 11.52542441  5.39598008  2.61972588  4.69423843 10.72195875\n",
      "   8.43037872  7.0230336   1.9222692   3.07053107]\n",
      " [ 5.20995512 11.15673596  6.17221051  9.97257486  7.75005996  3.25329648\n",
      "  12.91417188  0.24357157  0.2822978   8.4082008 ]\n",
      " [ 5.77605673  9.77799109  2.13406975  1.75786808  0.76005499  6.88706214\n",
      "   8.42920222  3.23780493  2.77516826  1.48784245]\n",
      " [ 1.00078762  2.95642655 12.30763841  5.72093897  9.8551939   5.93791415\n",
      "   1.01634426  2.07919022 11.12518428  2.86036621]\n",
      " [10.50419813 14.94295078  1.02788765  2.550296    1.27890638 10.38520907\n",
      "  13.70940714  6.81459104  2.55183292  0.39062277]\n",
      " [ 1.25993245  1.91175665  7.62308324  0.17116446  4.58418845  1.97153728\n",
      "   0.10993571  1.809344   11.03576779  2.50802197]]\n"
     ]
    }
   ],
   "source": [
    "# Sample data: sets of lines and points\n",
    "P0 = np.random.uniform(-10, 10, (10, 2))\n",
    "P1 = np.random.uniform(-10, 10, (10, 2))\n",
    "P = np.random.uniform(-10, 10, (10, 2))\n",
    "\n",
    "lines_vec = P1 - P0\n",
    "\n",
    "# Vector from P0 to each point P\n",
    "p_minus_p0 = P[:, np.newaxis, :] - P0[np.newaxis, :, :]\n",
    "\n",
    "#2D cross product: (a.x * b.y) - (a.y * b.x)\n",
    "cross_product = np.abs(p_minus_p0[:, :, 0] * lines_vec[np.newaxis, :, 1] -\n",
    "                       p_minus_p0[:, :, 1] * lines_vec[np.newaxis, :, 0])\n",
    "\n",
    "line_lengths = np.sqrt(np.sum(lines_vec**2, axis=1))\n",
    "\n",
    "distances = cross_product / line_lengths[np.newaxis, :]\n",
    "\n",
    "print(\"Distances (rows are points, columns are lines):\\n\", distances)"
   ]
  },
  {
   "cell_type": "markdown",
   "metadata": {},
   "source": [
    "#### 79. Consider 2 sets of points P0,P1 describing lines (2d) and a set of points P, how to compute distance from each point j (P[j]) to each line i (P0[i],P1[i])? (★★★)"
   ]
  },
  {
   "cell_type": "code",
   "execution_count": 21,
   "metadata": {},
   "outputs": [
    {
     "name": "stdout",
     "output_type": "stream",
     "text": [
      "Distances (rows are points, columns are lines):\n",
      " [[4.61257007e-01 1.58825371e-01 2.01380888e-01 1.15312389e+01\n",
      "  1.63266455e+00 3.26423872e+00 3.57957222e+00 6.19891735e+00\n",
      "  3.55429537e+00 1.85594610e+00]\n",
      " [3.76901076e+00 2.34182788e+00 4.09980236e+00 5.82525992e+00\n",
      "  1.14965692e+01 5.24791802e+00 6.04854953e+00 6.33175830e-03\n",
      "  4.09268618e+00 3.31743665e+00]\n",
      " [5.20353297e+00 3.99530858e+00 2.16588298e+00 4.63894398e+00\n",
      "  1.09990422e+01 5.69604414e+00 4.10546584e+00 1.81305896e+00\n",
      "  5.91777198e+00 1.39415246e+00]\n",
      " [1.22611768e+01 1.27104358e+01 9.69414549e+00 6.58276140e-01\n",
      "  5.78332729e+00 6.14422134e+00 7.45706645e+00 1.35161148e+01\n",
      "  1.60801306e+01 9.81059746e+00]\n",
      " [5.94691088e+00 4.61297798e+00 4.27259200e-02 1.78046451e+01\n",
      "  5.37966391e+00 1.06352589e+01 4.55933657e+00 8.35382928e+00\n",
      "  3.85899684e-01 3.59858878e+00]\n",
      " [5.17404733e+00 4.36989471e+00 1.61910510e+00 1.65634783e+01\n",
      "  2.55772318e+00 8.43292432e+00 5.74833766e+00 6.18558783e+00\n",
      "  4.83273877e-02 4.50759264e+00]\n",
      " [2.96288401e+00 3.13570023e+00 1.77825774e+00 8.09333365e+00\n",
      "  3.55660800e+00 2.20016672e-01 1.19295339e+00 7.34797129e+00\n",
      "  6.58063521e+00 7.76101860e-01]\n",
      " [1.07967882e+00 1.62946552e+00 4.09834826e+00 1.13383228e+01\n",
      "  5.46225407e+00 1.16328491e+00 7.03305703e+00 1.74450972e+00\n",
      "  1.22217750e+00 4.96083499e+00]\n",
      " [3.98234233e+00 5.55432153e+00 8.17928419e+00 8.40605029e+00\n",
      "  2.72919267e+00 3.66613401e+00 4.48036764e+00 1.46633196e+01\n",
      "  1.04134601e+01 5.87732823e+00]\n",
      " [2.21763560e+00 3.58325002e+00 8.22807749e+00 1.16825741e+01\n",
      "  8.92014750e+00 4.25148567e-01 1.07909280e+01 2.80312531e+00\n",
      "  1.53501438e+00 8.41485309e+00]]\n"
     ]
    }
   ],
   "source": [
    "# Sample data: sets of lines and points\n",
    "P0 = np.random.uniform(-10, 10, (10, 2))\n",
    "P1 = np.random.uniform(-10, 10, (10, 2))\n",
    "P = np.random.uniform(-10, 10, (10, 2))\n",
    "\n",
    "# Vector for each line\n",
    "lines_vec = P1 - P0\n",
    "\n",
    "# Vector from P0 to each point P\n",
    "p_minus_p0 = P[:, np.newaxis, :] - P0[np.newaxis, :, :]\n",
    "\n",
    "#2D cross product: (a.x * b.y) - (a.y * b.x)\n",
    "cross_product = np.abs(p_minus_p0[:, :, 0] * lines_vec[np.newaxis, :, 1] -\n",
    "                       p_minus_p0[:, :, 1] * lines_vec[np.newaxis, :, 0])\n",
    "\n",
    "# Length of each line vector\n",
    "line_lengths = np.sqrt(np.sum(lines_vec**2, axis=1))\n",
    "\n",
    "distances = cross_product / line_lengths[np.newaxis, :]\n",
    "\n",
    "print(\"Distances (rows are points, columns are lines):\\n\", distances)"
   ]
  },
  {
   "cell_type": "markdown",
   "metadata": {},
   "source": [
    "#### 80. Consider an arbitrary array, write a function that extract a subpart with a fixed shape and centered on a given element (pad with a `fill` value when necessary) (★★★)"
   ]
  },
  {
   "cell_type": "code",
   "execution_count": 22,
   "metadata": {},
   "outputs": [
    {
     "name": "stdout",
     "output_type": "stream",
     "text": [
      "Original array:\n",
      " [[ 0  1  2  3  4]\n",
      " [ 5  6  7  8  9]\n",
      " [10 11 12 13 14]\n",
      " [15 16 17 18 19]\n",
      " [20 21 22 23 24]]\n",
      "\n",
      "Subpart centered at (2,2):\n",
      " [[ 6  7  8]\n",
      " [11 12 13]\n",
      " [16 17 18]]\n",
      "\n",
      "Subpart centered at (0,0) with padding:\n",
      " [[-1 -1 -1]\n",
      " [-1  0  1]\n",
      " [-1  5  6]]\n"
     ]
    }
   ],
   "source": [
    "def extract_subpart(arr, center_point, shape, fill=0):\n",
    "    \n",
    "    arr_shape = np.array(arr.shape)\n",
    "    sub_shape = np.array(shape)\n",
    "    center = np.array(center_point)\n",
    "\n",
    "    padding = np.maximum(0, (sub_shape // 2) - center)\n",
    "    padding = np.vstack([padding, np.maximum(0, center + (sub_shape // 2) + 1 - arr_shape)]).T\n",
    "    \n",
    "    # Pad the array\n",
    "    padded_arr = np.pad(arr, padding, mode='constant', constant_values=fill)\n",
    "    \n",
    "    # Recalculate the center point in the padded array\n",
    "    padded_center = center + padding[:, 0]\n",
    "    \n",
    "    # Calculate the slicing indices for the padded array\n",
    "    start_idx = padded_center - (sub_shape // 2)\n",
    "    end_idx = start_idx + sub_shape\n",
    "    \n",
    "    # Slice and return the result\n",
    "    slices = tuple(slice(start, end) for start, end in zip(start_idx, end_idx))\n",
    "    return padded_arr[slices]\n",
    "\n",
    "arr = np.arange(25).reshape(5, 5)\n",
    "print(\"Original array:\\n\", arr)\n",
    "\n",
    "# Extract a 3x3 subpart centered at (2,2)\n",
    "subpart1 = extract_subpart(arr, (2, 2), (3, 3))\n",
    "print(\"\\nSubpart centered at (2,2):\\n\", subpart1)\n",
    "\n",
    "# Extract a 3x3 subpart centered at (0,0) with padding\n",
    "subpart2 = extract_subpart(arr, (0, 0), (3, 3), fill=-1)\n",
    "print(\"\\nSubpart centered at (0,0) with padding:\\n\", subpart2)"
   ]
  },
  {
   "cell_type": "markdown",
   "metadata": {},
   "source": [
    "#### 81. Consider an array Z = [1,2,3,4,5,6,7,8,9,10,11,12,13,14], how to generate an array R = [[1,2,3,4], [2,3,4,5], [3,4,5,6], ..., [11,12,13,14]]? (★★★)"
   ]
  },
  {
   "cell_type": "code",
   "execution_count": 23,
   "metadata": {},
   "outputs": [
    {
     "name": "stdout",
     "output_type": "stream",
     "text": [
      "Original array Z:\n",
      "[ 1  2  3  4  5  6  7  8  9 10 11 12 13 14]\n",
      "\n",
      "Resulting array R:\n",
      "[[ 1  2  3  4]\n",
      " [ 2  3  4  5]\n",
      " [ 3  4  5  6]\n",
      " [ 4  5  6  7]\n",
      " [ 5  6  7  8]\n",
      " [ 6  7  8  9]\n",
      " [ 7  8  9 10]\n",
      " [ 8  9 10 11]\n",
      " [ 9 10 11 12]\n",
      " [10 11 12 13]\n",
      " [11 12 13 14]]\n"
     ]
    }
   ],
   "source": [
    "Z = np.array([1, 2, 3, 4, 5, 6, 7, 8, 9, 10, 11, 12, 13, 14])\n",
    "\n",
    "window_size = 4\n",
    "\n",
    "rows = len(Z) - window_size + 1\n",
    "cols = window_size\n",
    "stride = Z.strides[0]\n",
    "\n",
    "R = as_strided(Z, shape=(rows, cols), strides=(stride, stride))\n",
    "\n",
    "print(f\"Original array Z:\\n{Z}\")\n",
    "print(f\"\\nResulting array R:\\n{R}\")"
   ]
  },
  {
   "cell_type": "markdown",
   "metadata": {},
   "source": [
    "#### 82. Compute a matrix rank (★★★)"
   ]
  },
  {
   "cell_type": "code",
   "execution_count": 24,
   "metadata": {},
   "outputs": [
    {
     "name": "stdout",
     "output_type": "stream",
     "text": [
      "Matrix A:\n",
      "[[1 2 3]\n",
      " [4 5 6]\n",
      " [5 7 9]]\n",
      "Rank of the matrix: 2\n"
     ]
    }
   ],
   "source": [
    "A = np.array([[1, 2, 3],\n",
    "              [4, 5, 6],\n",
    "              [5, 7, 9]]) \n",
    "\n",
    "rank = np.linalg.matrix_rank(A)\n",
    "\n",
    "print(f\"Matrix A:\\n{A}\")\n",
    "print(f\"Rank of the matrix: {rank}\")"
   ]
  },
  {
   "cell_type": "markdown",
   "metadata": {},
   "source": [
    "#### 83. How to find the most frequent value in an array?"
   ]
  },
  {
   "cell_type": "code",
   "execution_count": 25,
   "metadata": {},
   "outputs": [
    {
     "name": "stdout",
     "output_type": "stream",
     "text": [
      "Original array:\n",
      "[2 5 5 5 0 8 9 3 3 7 9 7 7 9 0 2 8 2 9 2 8 3 6 8 7 9 9 1 8 5 4 2 5 3 9 1 4\n",
      " 6 0 6 3 4 6 1 6 5 5 4 1 5]\n",
      "Counts of each value: [3 4 5 5 4 8 5 4 5 7]\n",
      "The most frequent value is: 5\n"
     ]
    }
   ],
   "source": [
    "Z = np.random.randint(0, 10, 50)\n",
    "\n",
    "counts = np.bincount(Z)\n",
    "\n",
    "most_frequent_value = np.argmax(counts)\n",
    "\n",
    "print(f\"Original array:\\n{Z}\")\n",
    "print(f\"Counts of each value: {counts}\")\n",
    "print(f\"The most frequent value is: {most_frequent_value}\")"
   ]
  },
  {
   "cell_type": "markdown",
   "metadata": {},
   "source": [
    "#### 84. Extract all the contiguous 3x3 blocks from a random 10x10 matrix (★★★)"
   ]
  },
  {
   "cell_type": "code",
   "execution_count": 26,
   "metadata": {},
   "outputs": [
    {
     "name": "stdout",
     "output_type": "stream",
     "text": [
      "Original 10x10 matrix:\n",
      "[[0.78005029 0.9219708  0.00179828 0.36704418 0.17209149 0.18248692\n",
      "  0.10254624 0.69821612 0.06997987 0.73380123]\n",
      " [0.5351124  0.65952061 0.8922823  0.62616376 0.18287363 0.4749778\n",
      "  0.17404084 0.14626628 0.79508227 0.64284582]\n",
      " [0.95868922 0.95635988 0.16668669 0.30973793 0.21030536 0.27740061\n",
      "  0.41348879 0.89902871 0.1452067  0.81154135]\n",
      " [0.06256525 0.68750996 0.77425738 0.14057417 0.77334715 0.04702333\n",
      "  0.41657594 0.82018091 0.41563521 0.47575235]\n",
      " [0.51795496 0.64298792 0.6649566  0.48725116 0.22414559 0.26192884\n",
      "  0.9514739  0.23979869 0.51423702 0.05331799]\n",
      " [0.43643915 0.5666917  0.64870174 0.91578682 0.49818865 0.08477743\n",
      "  0.78547429 0.60006446 0.23701974 0.8488201 ]\n",
      " [0.26486475 0.49737844 0.47059515 0.20140812 0.41243706 0.0820889\n",
      "  0.06852299 0.88599045 0.06822606 0.79596788]\n",
      " [0.3768914  0.74041484 0.08690294 0.34546194 0.87721434 0.52087714\n",
      "  0.65021937 0.31600045 0.30619572 0.06968381]\n",
      " [0.20047324 0.28637526 0.78726926 0.83434519 0.88026102 0.78594371\n",
      "  0.98819232 0.06560287 0.52170827 0.75620312]\n",
      " [0.33514923 0.20129338 0.21528156 0.70409293 0.09776086 0.49392049\n",
      "  0.59395207 0.03395029 0.49793762 0.75747117]]\n",
      "\n",
      "Shape of the extracted blocks array: (8, 8, 3, 3)\n",
      "\n",
      "Example of the first block (top-left):\n",
      "[[0.78005029 0.9219708  0.00179828]\n",
      " [0.5351124  0.65952061 0.8922823 ]\n",
      " [0.95868922 0.95635988 0.16668669]]\n"
     ]
    }
   ],
   "source": [
    "matrix = np.random.rand(10, 10)\n",
    "block_size = 3\n",
    "\n",
    "rows = matrix.shape[0] - block_size + 1\n",
    "cols = matrix.shape[1] - block_size + 1\n",
    "strides = matrix.strides + matrix.strides\n",
    "\n",
    "blocks = as_strided(matrix, shape=(rows, cols, block_size, block_size), strides=strides)\n",
    "\n",
    "print(f\"Original 10x10 matrix:\\n{matrix}\")\n",
    "print(f\"\\nShape of the extracted blocks array: {blocks.shape}\")\n",
    "print(f\"\\nExample of the first block (top-left):\\n{blocks[0, 0]}\")"
   ]
  },
  {
   "cell_type": "markdown",
   "metadata": {},
   "source": [
    "#### 85. Create a 2D array subclass such that Z[i,j] == Z[j,i] (★★★)"
   ]
  },
  {
   "cell_type": "code",
   "execution_count": 27,
   "metadata": {},
   "outputs": [
    {
     "name": "stdout",
     "output_type": "stream",
     "text": [
      "Original symmetric array:\n",
      " [[0 0 0]\n",
      " [0 0 0]\n",
      " [0 0 0]]\n",
      "\n",
      "Array after setting Z[0, 1] and Z[2, 0]:\n",
      " [[ 0  5  0]\n",
      " [ 0  0  0]\n",
      " [10  0  0]]\n"
     ]
    }
   ],
   "source": [
    "class SymmetricArray(np.ndarray):\n",
    "    def _setitem_(self, key, value):\n",
    "        i, j = key\n",
    "        super()._setitem_((i, j), value)\n",
    "        super()._setitem_((j, i), value)\n",
    "\n",
    "    def _new_(cls, *args, **kwargs):\n",
    "        obj = np.ndarray._new_(cls, *args, **kwargs)\n",
    "        return obj\n",
    "    \n",
    "Z = np.zeros((3, 3), dtype=int).view(SymmetricArray)\n",
    "print(\"Original symmetric array:\\n\", Z)\n",
    "\n",
    "Z[0, 1] = 5\n",
    "Z[2, 0] = 10\n",
    "\n",
    "print(\"\\nArray after setting Z[0, 1] and Z[2, 0]:\\n\", Z)"
   ]
  },
  {
   "cell_type": "markdown",
   "metadata": {},
   "source": [
    "#### 86. Consider a set of p matrices wich shape (n,n) and a set of p vectors with shape (n,1). How to compute the sum of of the p matrix products at once? (result has shape (n,1)) (★★★)"
   ]
  },
  {
   "cell_type": "code",
   "execution_count": 28,
   "metadata": {},
   "outputs": [
    {
     "name": "stdout",
     "output_type": "stream",
     "text": [
      "Shape of matrices: (5, 4, 4)\n",
      "Shape of vectors: (5, 4, 1)\n",
      "Shape of the final sum of products: (4, 1)\n"
     ]
    }
   ],
   "source": [
    "# Define p, n\n",
    "p = 5\n",
    "n = 4\n",
    "\n",
    "# Create p matrices of shape (n,n)\n",
    "matrices = np.random.rand(p, n, n)\n",
    "\n",
    "# Create p vectors of shape (n,1)\n",
    "vectors = np.random.rand(p, n, 1)\n",
    "\n",
    "result = np.einsum('pij, pjk->pik', matrices, vectors)\n",
    "\n",
    "final_result = np.sum(result, axis=0)\n",
    "\n",
    "print(f\"Shape of matrices: {matrices.shape}\")\n",
    "print(f\"Shape of vectors: {vectors.shape}\")\n",
    "print(f\"Shape of the final sum of products: {final_result.shape}\")"
   ]
  },
  {
   "cell_type": "markdown",
   "metadata": {},
   "source": [
    "#### 87. Consider a 16x16 array, how to get the block-sum (block size is 4x4)? (★★★)"
   ]
  },
  {
   "cell_type": "code",
   "execution_count": 29,
   "metadata": {},
   "outputs": [
    {
     "name": "stdout",
     "output_type": "stream",
     "text": [
      "Original 16x16 array:\n",
      "[[9 1 6 3 9 7 9 7 2 9 7 6 0 9 3 9]\n",
      " [5 7 9 2 6 7 3 5 7 3 7 9 2 0 0 6]\n",
      " [5 3 4 1 5 8 7 6 0 0 6 9 3 3 0 4]\n",
      " [9 8 3 7 7 6 7 0 5 6 9 4 8 6 4 0]\n",
      " [7 1 6 8 2 2 3 3 2 4 0 2 0 1 9 7]\n",
      " [2 4 8 8 3 9 9 4 7 1 4 8 2 2 8 3]\n",
      " [6 3 5 7 5 6 0 1 2 1 8 4 9 2 1 6]\n",
      " [6 0 2 9 2 6 9 6 9 2 9 8 3 2 5 4]\n",
      " [1 6 3 9 4 4 5 5 9 4 3 3 0 4 4 8]\n",
      " [6 3 9 6 9 4 6 3 8 4 8 2 9 5 0 7]\n",
      " [5 8 7 4 1 1 5 8 7 0 9 3 3 0 5 0]\n",
      " [9 8 4 0 3 4 0 0 0 7 8 3 0 4 0 7]\n",
      " [5 3 2 8 1 5 6 9 2 7 2 4 4 4 4 4]\n",
      " [0 9 6 6 1 6 3 0 5 1 7 1 8 2 1 7]\n",
      " [6 5 2 3 6 1 5 6 5 0 0 8 0 6 2 5]\n",
      " [7 8 8 6 4 6 0 1 9 2 6 4 5 1 6 5]]\n",
      "\n",
      "Shape of the block-sum array: (4, 4)\n",
      "\n",
      "Resulting 4x4 array of block sums:\n",
      "[[82 99 89 57]\n",
      " [82 70 71 64]\n",
      " [88 62 78 56]\n",
      " [84 60 63 64]]\n"
     ]
    }
   ],
   "source": [
    "# Create a sample 16x16 array\n",
    "arr = np.random.randint(0, 10, (16, 16))\n",
    "block_size = 4\n",
    "\n",
    "# Reshape the array to group the blocks\n",
    "block_sum = arr.reshape(\n",
    "    arr.shape[0] // block_size, block_size,\n",
    "    arr.shape[1] // block_size, block_size\n",
    ").sum(axis=(1, 3))\n",
    "\n",
    "print(f\"Original 16x16 array:\\n{arr}\")\n",
    "print(f\"\\nShape of the block-sum array: {block_sum.shape}\")\n",
    "print(f\"\\nResulting 4x4 array of block sums:\\n{block_sum}\")"
   ]
  },
  {
   "cell_type": "markdown",
   "metadata": {},
   "source": [
    "#### 88. How to implement the Game of Life using numpy arrays? (★★★)"
   ]
  },
  {
   "cell_type": "code",
   "execution_count": 30,
   "metadata": {},
   "outputs": [
    {
     "name": "stdout",
     "output_type": "stream",
     "text": [
      "Initial grid:\n",
      " [[0 0 0 0 0 0 0 0 0 0]\n",
      " [0 0 1 0 0 0 0 0 0 0]\n",
      " [0 0 0 1 0 0 0 0 0 0]\n",
      " [0 1 1 1 0 0 0 0 0 0]\n",
      " [0 0 0 0 0 0 0 0 0 0]\n",
      " [0 0 0 0 0 0 0 0 0 0]\n",
      " [0 0 0 0 0 0 0 0 0 0]\n",
      " [0 0 0 0 0 0 0 0 0 0]\n",
      " [0 0 0 0 0 0 0 0 0 0]\n",
      " [0 0 0 0 0 0 0 0 0 0]]\n",
      "\n",
      "Step 1:\n",
      " [[0 0 0 0 0 0 0 0 0 0]\n",
      " [0 0 0 0 0 0 0 0 0 0]\n",
      " [0 1 0 1 0 0 0 0 0 0]\n",
      " [0 0 1 1 0 0 0 0 0 0]\n",
      " [0 0 1 0 0 0 0 0 0 0]\n",
      " [0 0 0 0 0 0 0 0 0 0]\n",
      " [0 0 0 0 0 0 0 0 0 0]\n",
      " [0 0 0 0 0 0 0 0 0 0]\n",
      " [0 0 0 0 0 0 0 0 0 0]\n",
      " [0 0 0 0 0 0 0 0 0 0]]\n",
      "\n",
      "Step 2:\n",
      " [[0 0 0 0 0 0 0 0 0 0]\n",
      " [0 0 0 0 0 0 0 0 0 0]\n",
      " [0 0 0 1 0 0 0 0 0 0]\n",
      " [0 1 0 1 0 0 0 0 0 0]\n",
      " [0 0 1 1 0 0 0 0 0 0]\n",
      " [0 0 0 0 0 0 0 0 0 0]\n",
      " [0 0 0 0 0 0 0 0 0 0]\n",
      " [0 0 0 0 0 0 0 0 0 0]\n",
      " [0 0 0 0 0 0 0 0 0 0]\n",
      " [0 0 0 0 0 0 0 0 0 0]]\n",
      "\n",
      "Step 3:\n",
      " [[0 0 0 0 0 0 0 0 0 0]\n",
      " [0 0 0 0 0 0 0 0 0 0]\n",
      " [0 0 1 0 0 0 0 0 0 0]\n",
      " [0 0 0 1 1 0 0 0 0 0]\n",
      " [0 0 1 1 0 0 0 0 0 0]\n",
      " [0 0 0 0 0 0 0 0 0 0]\n",
      " [0 0 0 0 0 0 0 0 0 0]\n",
      " [0 0 0 0 0 0 0 0 0 0]\n",
      " [0 0 0 0 0 0 0 0 0 0]\n",
      " [0 0 0 0 0 0 0 0 0 0]]\n",
      "\n",
      "Step 4:\n",
      " [[0 0 0 0 0 0 0 0 0 0]\n",
      " [0 0 0 0 0 0 0 0 0 0]\n",
      " [0 0 0 1 0 0 0 0 0 0]\n",
      " [0 0 0 0 1 0 0 0 0 0]\n",
      " [0 0 1 1 1 0 0 0 0 0]\n",
      " [0 0 0 0 0 0 0 0 0 0]\n",
      " [0 0 0 0 0 0 0 0 0 0]\n",
      " [0 0 0 0 0 0 0 0 0 0]\n",
      " [0 0 0 0 0 0 0 0 0 0]\n",
      " [0 0 0 0 0 0 0 0 0 0]]\n",
      "\n",
      "Step 5:\n",
      " [[0 0 0 0 0 0 0 0 0 0]\n",
      " [0 0 0 0 0 0 0 0 0 0]\n",
      " [0 0 0 0 0 0 0 0 0 0]\n",
      " [0 0 1 0 1 0 0 0 0 0]\n",
      " [0 0 0 1 1 0 0 0 0 0]\n",
      " [0 0 0 1 0 0 0 0 0 0]\n",
      " [0 0 0 0 0 0 0 0 0 0]\n",
      " [0 0 0 0 0 0 0 0 0 0]\n",
      " [0 0 0 0 0 0 0 0 0 0]\n",
      " [0 0 0 0 0 0 0 0 0 0]]\n"
     ]
    }
   ],
   "source": [
    "def game_of_life_step(grid):\n",
    "    \n",
    "    rows, cols = grid.shape\n",
    "    padded_grid = np.pad(grid, 1, mode='wrap')\n",
    "    \n",
    "    kernel = np.array([[1, 1, 1], [1, 0, 1], [1, 1, 1]])\n",
    "    neighbors = np.sum(\n",
    "        [np.roll(np.roll(padded_grid, i, axis=0), j, axis=1)\n",
    "         for i in [-1, 0, 1] for j in [-1, 0, 1] if (i,j) != (0,0)],\n",
    "        axis=0\n",
    "    )[1:-1, 1:-1]\n",
    "    \n",
    "    new_grid = grid.copy()\n",
    "    \n",
    "    survive = (grid == 1) & ((neighbors == 2) | (neighbors == 3))\n",
    "    \n",
    "    birth = (grid == 0) & (neighbors == 3)\n",
    "    \n",
    "    new_grid[:] = 0\n",
    "    new_grid[survive | birth] = 1\n",
    "    \n",
    "    return new_grid\n",
    "\n",
    "# Example\n",
    "grid = np.zeros((10, 10), dtype=int)\n",
    "grid[1, 2] = 1\n",
    "grid[2, 3] = 1\n",
    "grid[3, 1:4] = 1  # A \"glider\"\n",
    "print(\"Initial grid:\\n\", grid)\n",
    "\n",
    "for i in range(5):\n",
    "    grid = game_of_life_step(grid)\n",
    "    print(f\"\\nStep {i+1}:\\n\", grid)"
   ]
  },
  {
   "cell_type": "markdown",
   "metadata": {},
   "source": [
    "#### 89. How to get the n largest values of an array (★★★)"
   ]
  },
  {
   "cell_type": "code",
   "execution_count": 43,
   "metadata": {},
   "outputs": [
    {
     "name": "stdout",
     "output_type": "stream",
     "text": [
      "[20 15 10]\n"
     ]
    }
   ],
   "source": [
    "arr = np.array([10, 4, 8, 15, 3, 20])\n",
    "n = 3\n",
    "\n",
    "largest_n = np.sort(arr)[-n:][::-1]\n",
    "print(largest_n)  "
   ]
  },
  {
   "cell_type": "markdown",
   "metadata": {},
   "source": [
    "#### 90. Given an arbitrary number of vectors, build the cartesian product (every combinations of every item) (★★★)"
   ]
  },
  {
   "cell_type": "code",
   "execution_count": 32,
   "metadata": {},
   "outputs": [
    {
     "name": "stdout",
     "output_type": "stream",
     "text": [
      "The Cartesian product:\n",
      "[['1' 'a' '10']\n",
      " ['1' 'a' '20']\n",
      " ['2' 'a' '10']\n",
      " ['2' 'a' '20']\n",
      " ['3' 'a' '10']\n",
      " ['3' 'a' '20']\n",
      " ['1' 'b' '10']\n",
      " ['1' 'b' '20']\n",
      " ['2' 'b' '10']\n",
      " ['2' 'b' '20']\n",
      " ['3' 'b' '10']\n",
      " ['3' 'b' '20']]\n"
     ]
    }
   ],
   "source": [
    "# Sample vectors\n",
    "v1 = np.array([1, 2, 3])\n",
    "v2 = np.array(['a', 'b'])\n",
    "v3 = np.array([10, 20])\n",
    "\n",
    "# Use meshgrid to create grids of all combinations\n",
    "grid = np.meshgrid(v1, v2, v3)\n",
    "\n",
    "# Stack the results to get the Cartesian product\n",
    "cartesian_product = np.vstack([x.ravel() for x in grid]).T\n",
    "\n",
    "print(f\"The Cartesian product:\\n{cartesian_product}\")"
   ]
  },
  {
   "cell_type": "markdown",
   "metadata": {},
   "source": [
    "#### 91. How to create a record array from a regular array? (★★★)"
   ]
  },
  {
   "cell_type": "code",
   "execution_count": 33,
   "metadata": {},
   "outputs": [
    {
     "name": "stdout",
     "output_type": "stream",
     "text": [
      "Original array:\n",
      " [[10 20 30]\n",
      " [40 50 60]\n",
      " [70 80 90]]\n",
      "\n",
      "Record array:\n",
      " [(10, 20, 30) (40, 50, 60) (70, 80, 90)]\n",
      "\n",
      "Accessing a field (e.g., 'x'): [10 40 70]\n"
     ]
    }
   ],
   "source": [
    "# Sample regular array\n",
    "arr = np.array([[10, 20, 30],\n",
    "                [40, 50, 60],\n",
    "                [70, 80, 90]])\n",
    "\n",
    "# Define the structured data type\n",
    "dtype = [('x', int), ('y', int), ('z', int)]\n",
    "\n",
    "# Create the record array\n",
    "record_array = arr.ravel().view(dtype=dtype).reshape(arr.shape[0])\n",
    "\n",
    "print(\"Original array:\\n\", arr)\n",
    "print(\"\\nRecord array:\\n\", record_array)\n",
    "print(\"\\nAccessing a field (e.g., 'x'):\", record_array['x'])"
   ]
  },
  {
   "cell_type": "markdown",
   "metadata": {},
   "source": [
    "#### 92. Consider a large vector Z, compute Z to the power of 3 using 3 different methods (★★★)"
   ]
  },
  {
   "cell_type": "code",
   "execution_count": 34,
   "metadata": {},
   "outputs": [
    {
     "name": "stdout",
     "output_type": "stream",
     "text": [
      "Original array:\n",
      " [[10 20 30]\n",
      " [40 50 60]\n",
      " [70 80 90]]\n",
      "\n",
      "Record array:\n",
      " [(10, 20, 30) (40, 50, 60) (70, 80, 90)]\n",
      "\n",
      "Accessing a field (e.g., 'x'): [10 40 70]\n"
     ]
    }
   ],
   "source": [
    "# Sample regular array\n",
    "arr = np.array([[10, 20, 30],\n",
    "                [40, 50, 60],\n",
    "                [70, 80, 90]])\n",
    "\n",
    "# Define the structured data type\n",
    "# Each tuple defines a field: (field_name, data_type)\n",
    "dtype = [('x', int), ('y', int), ('z', int)]\n",
    "\n",
    "record_array = arr.ravel().view(dtype=dtype).reshape(arr.shape[0])\n",
    "\n",
    "print(\"Original array:\\n\", arr)\n",
    "print(\"\\nRecord array:\\n\", record_array)\n",
    "print(\"\\nAccessing a field (e.g., 'x'):\", record_array['x'])"
   ]
  },
  {
   "cell_type": "markdown",
   "metadata": {},
   "source": [
    "#### 93. Consider two arrays A and B of shape (8,3) and (2,2). How to find rows of A that contain elements of each row of B regardless of the order of the elements in B? (★★★)"
   ]
  },
  {
   "cell_type": "code",
   "execution_count": 35,
   "metadata": {},
   "outputs": [
    {
     "name": "stdout",
     "output_type": "stream",
     "text": [
      "Array A:\n",
      "[[2 2 4]\n",
      " [0 3 4]\n",
      " [3 3 4]\n",
      " [1 2 4]\n",
      " [2 3 3]\n",
      " [0 2 3]\n",
      " [0 2 4]\n",
      " [2 4 4]]\n",
      "\n",
      "Array B:\n",
      "[[1 2 4]\n",
      " [1 1 3]]\n",
      "\n",
      "Boolean mask for rows of A present in B:\n",
      "[False False False  True False False False False]\n"
     ]
    }
   ],
   "source": [
    "# Create sample arrays\n",
    "A = np.random.randint(0, 5, (8, 3))\n",
    "B = np.random.randint(0, 5, (2, 3))\n",
    "\n",
    "# Sort each row for consistent comparison\n",
    "A.sort(axis=1)\n",
    "B.sort(axis=1)\n",
    "\n",
    "# Find unique rows in B to avoid redundant checks\n",
    "unique_B_rows = np.unique(B, axis=0)\n",
    "\n",
    "# Check which rows of A are in B\n",
    "is_in_B = np.all(A[:, None, :] == unique_B_rows[None, :, :], axis=2)\n",
    "result = np.any(is_in_B, axis=1)\n",
    "\n",
    "print(f\"Array A:\\n{A}\")\n",
    "print(f\"\\nArray B:\\n{B}\")\n",
    "print(f\"\\nBoolean mask for rows of A present in B:\\n{result}\")"
   ]
  },
  {
   "cell_type": "markdown",
   "metadata": {},
   "source": [
    "#### 94. Considering a 10x3 matrix, extract rows with unequal values (e.g. [2,2,3]) (★★★)"
   ]
  },
  {
   "cell_type": "code",
   "execution_count": 36,
   "metadata": {},
   "outputs": [
    {
     "name": "stdout",
     "output_type": "stream",
     "text": [
      "Original matrix:\n",
      "[[2 2 2]\n",
      " [0 1 0]\n",
      " [1 2 1]\n",
      " [0 0 2]\n",
      " [2 0 1]\n",
      " [2 2 1]\n",
      " [0 0 1]\n",
      " [1 2 0]\n",
      " [2 0 0]\n",
      " [0 2 1]]\n",
      "\n",
      "Rows with unequal values:\n",
      "[[0 1 0]\n",
      " [1 2 1]\n",
      " [0 0 2]\n",
      " [2 0 1]\n",
      " [2 2 1]\n",
      " [0 0 1]\n",
      " [1 2 0]\n",
      " [2 0 0]\n",
      " [0 2 1]]\n"
     ]
    }
   ],
   "source": [
    "# Create a sample 10x3 matrix\n",
    "Z = np.random.randint(0, 3, (10, 3))\n",
    "print(f\"Original matrix:\\n{Z}\")\n",
    "\n",
    "# Find rows where min and max values are different\n",
    "unequal_rows = Z[Z.max(axis=1) != Z.min(axis=1)]\n",
    "\n",
    "print(f\"\\nRows with unequal values:\\n{unequal_rows}\")"
   ]
  },
  {
   "cell_type": "markdown",
   "metadata": {},
   "source": [
    "#### 95. Convert a vector of ints into a matrix binary representation (★★★)"
   ]
  },
  {
   "cell_type": "code",
   "execution_count": 37,
   "metadata": {},
   "outputs": [
    {
     "name": "stdout",
     "output_type": "stream",
     "text": [
      "Original vector:\n",
      "[0 1 2 3 4 5 6 7]\n",
      "\n",
      "Binary representation (matrix):\n",
      "[[0 0 0 0 0 0 0 0]\n",
      " [0 0 0 0 0 0 0 1]\n",
      " [0 0 0 0 0 0 1 0]\n",
      " [0 0 0 0 0 0 1 1]\n",
      " [0 0 0 0 0 1 0 0]\n",
      " [0 0 0 0 0 1 0 1]\n",
      " [0 0 0 0 0 1 1 0]\n",
      " [0 0 0 0 0 1 1 1]]\n"
     ]
    }
   ],
   "source": [
    "# Sample integer vector\n",
    "I = np.array([0, 1, 2, 3, 4, 5, 6, 7], dtype=np.uint8)\n",
    "\n",
    "binary_matrix = np.unpackbits(I[:, np.newaxis], axis=1)\n",
    "\n",
    "print(f\"Original vector:\\n{I}\")\n",
    "print(f\"\\nBinary representation (matrix):\\n{binary_matrix}\")"
   ]
  },
  {
   "cell_type": "markdown",
   "metadata": {},
   "source": [
    "#### 96. Given a two dimensional array, how to extract unique rows? (★★★)"
   ]
  },
  {
   "cell_type": "code",
   "execution_count": 38,
   "metadata": {},
   "outputs": [
    {
     "name": "stdout",
     "output_type": "stream",
     "text": [
      "Original array:\n",
      "[[1 2 3]\n",
      " [4 5 6]\n",
      " [1 2 3]\n",
      " [7 8 9]\n",
      " [4 5 6]]\n",
      "\n",
      "Unique rows:\n",
      "[[1 2 3]\n",
      " [4 5 6]\n",
      " [7 8 9]]\n"
     ]
    }
   ],
   "source": [
    "# Create a sample 2D array with duplicate rows\n",
    "arr = np.array([[1, 2, 3],\n",
    "                [4, 5, 6],\n",
    "                [1, 2, 3],\n",
    "                [7, 8, 9],\n",
    "                [4, 5, 6]])\n",
    "print(f\"Original array:\\n{arr}\")\n",
    "\n",
    "unique_rows = np.unique(arr, axis=0)\n",
    "\n",
    "print(f\"\\nUnique rows:\\n{unique_rows}\")"
   ]
  },
  {
   "cell_type": "markdown",
   "metadata": {},
   "source": [
    "#### 97. Considering 2 vectors A & B, write the einsum equivalent of inner, outer, sum, and mul function (★★★)"
   ]
  },
  {
   "cell_type": "code",
   "execution_count": 39,
   "metadata": {},
   "outputs": [
    {
     "name": "stdout",
     "output_type": "stream",
     "text": [
      "Inner product (einsum): 32\n",
      "Outer product (einsum):\n",
      "[[ 4  5  6]\n",
      " [ 8 10 12]\n",
      " [12 15 18]]\n",
      "Sum of A (einsum): 6\n",
      "Element-wise multiplication (einsum): [ 4 10 18]\n"
     ]
    }
   ],
   "source": [
    "A = np.array([1, 2, 3])\n",
    "B = np.array([4, 5, 6])\n",
    "\n",
    "# 1. Inner Product (Dot Product)\n",
    "# 'i, i -> ' sums over the product of elements with the same index\n",
    "inner_product = np.einsum('i,i->', A, B)\n",
    "print(f\"Inner product (einsum): {inner_product}\")\n",
    "\n",
    "# 2. Outer Product\n",
    "# 'i, j -> ij' creates a matrix where the element at (i,j) is A[i]*B[j]\n",
    "outer_product = np.einsum('i,j->ij', A, B)\n",
    "print(f\"Outer product (einsum):\\n{outer_product}\")\n",
    "\n",
    "# 3. Sum of elements\n",
    "# 'i -> ' sums over all elements of the vector\n",
    "total_sum_A = np.einsum('i->', A)\n",
    "print(f\"Sum of A (einsum): {total_sum_A}\")\n",
    "\n",
    "# 4. Element-wise Multiplication (Hadamard product)\n",
    "# 'i, i -> i' multiplies elements with the same index and keeps the vector shape\n",
    "elementwise_mul = np.einsum('i,i->i', A, B)\n",
    "print(f\"Element-wise multiplication (einsum): {elementwise_mul}\")"
   ]
  },
  {
   "cell_type": "markdown",
   "metadata": {},
   "source": [
    "#### 98. Considering a path described by two vectors (X,Y), how to sample it using equidistant samples (★★★)?"
   ]
  },
  {
   "cell_type": "code",
   "execution_count": 40,
   "metadata": {},
   "outputs": [
    {
     "name": "stdout",
     "output_type": "stream",
     "text": [
      "Original X points: [ 0.          0.52631579  1.05263158  1.57894737  2.10526316  2.63157895\n",
      "  3.15789474  3.68421053  4.21052632  4.73684211  5.26315789  5.78947368\n",
      "  6.31578947  6.84210526  7.36842105  7.89473684  8.42105263  8.94736842\n",
      "  9.47368421 10.        ]\n",
      "Original Y points: [ 0.          0.50235115  0.86872962  0.99996678  0.86054034  0.48818921\n",
      " -0.01630136 -0.5163796  -0.87668803 -0.99970104 -0.85212237 -0.47389753\n",
      "  0.03259839  0.53027082  0.88441346  0.99916962  0.84347795  0.4594799\n",
      " -0.04888676 -0.54402111]\n",
      "\n",
      "Equidistant X samples: [ 0.          0.70235882  1.50791763  3.34863279  4.85511865  5.64711613\n",
      "  6.34530064  7.05248836  7.87260892 10.        ]\n",
      "Equidistant Y samples: [ 0.          0.62489807  0.98225547 -0.19753087 -0.96653636 -0.57619953\n",
      "  0.06050349  0.6718315   0.99434492 -0.54402111]\n"
     ]
    }
   ],
   "source": [
    "# Sample path data (X, Y vectors)\n",
    "X = np.linspace(0, 10, 20)\n",
    "Y = np.sin(X)\n",
    "\n",
    "# Compute the distance between each point\n",
    "distances = np.sqrt(np.diff(X)*2 + np.diff(Y)*2)\n",
    "\n",
    "# Compute the cumulative distance\n",
    "cumulative_dist = np.cumsum(distances)\n",
    "cumulative_dist = np.insert(cumulative_dist, 0, 0) # Add 0 at the start\n",
    "\n",
    "# Define the number of equidistant samples you want\n",
    "num_samples = 10\n",
    "\n",
    "# Create the new equidistant sample points\n",
    "equidistant_points = np.linspace(0, cumulative_dist[-1], num_samples)\n",
    "\n",
    "# Use linear interpolation to find the (X, Y) coordinates\n",
    "X_equidistant = np.interp(equidistant_points, cumulative_dist, X)\n",
    "Y_equidistant = np.interp(equidistant_points, cumulative_dist, Y)\n",
    "\n",
    "print(f\"Original X points: {X}\")\n",
    "print(f\"Original Y points: {Y}\")\n",
    "print(f\"\\nEquidistant X samples: {X_equidistant}\")\n",
    "print(f\"Equidistant Y samples: {Y_equidistant}\")"
   ]
  },
  {
   "cell_type": "markdown",
   "metadata": {},
   "source": [
    "#### 99. Given an integer n and a 2D array X, select from X the rows which can be interpreted as draws from a multinomial distribution with n degrees, i.e., the rows which only contain integers and which sum to n. (★★★)"
   ]
  },
  {
   "cell_type": "code",
   "execution_count": 41,
   "metadata": {},
   "outputs": [
    {
     "name": "stdout",
     "output_type": "stream",
     "text": [
      "Original array:\n",
      "[[ 1  2  3  4  0]\n",
      " [ 1  2  3  4  1]\n",
      " [-1  2  3  6  0]\n",
      " [ 8  2  1  6  5]\n",
      " [ 2  3  9  7  7]\n",
      " [ 4  6  3  4  8]\n",
      " [ 8  9  3  2  4]\n",
      " [ 3  7  3  9  9]\n",
      " [ 3  3  2  7  4]\n",
      " [ 7  4  9  2  2]\n",
      " [ 8  1  8  6  9]\n",
      " [ 7  9  7  0  1]\n",
      " [ 5  9  2  8  6]\n",
      " [ 7  7  6  3  1]\n",
      " [ 6  2  0  9  2]\n",
      " [ 2  8  2  6  5]\n",
      " [ 2  4  3  3  7]\n",
      " [ 5  4  2  1  5]\n",
      " [ 8  1  6  3  7]\n",
      " [ 4  3  2  0  1]]\n",
      "\n",
      "Valid rows (sum to 10 and are non-negative):\n",
      "[[1 2 3 4 0]\n",
      " [4 3 2 0 1]]\n"
     ]
    }
   ],
   "source": [
    "\n",
    "n = 10\n",
    "X = np.random.randint(0, 10, (20, 5))\n",
    "X[0] = [1, 2, 3, 4, 0]\n",
    "X[1] = [1, 2, 3, 4, 1]\n",
    "X[2] = [-1, 2, 3, 6, 0]\n",
    "\n",
    "is_non_negative = np.all(X >= 0, axis=1)\n",
    "\n",
    "sums_equal_n = np.sum(X, axis=1) == n\n",
    "\n",
    "valid_rows = X[is_non_negative & sums_equal_n]\n",
    "\n",
    "print(f\"Original array:\\n{X}\")\n",
    "print(f\"\\nValid rows (sum to {n} and are non-negative):\\n{valid_rows}\")"
   ]
  },
  {
   "cell_type": "markdown",
   "metadata": {},
   "source": [
    "#### 100. Compute bootstrapped 95% confidence intervals for the mean of a 1D array X (i.e., resample the elements of an array with replacement N times, compute the mean of each sample, and then compute percentiles over the means). (★★★)"
   ]
  },
  {
   "cell_type": "code",
   "execution_count": 42,
   "metadata": {},
   "outputs": [
    {
     "name": "stdout",
     "output_type": "stream",
     "text": [
      "Original mean: 0.1242\n",
      "Bootstrapped 95% Confidence Interval for the mean: (-0.0586, 0.3037)\n"
     ]
    }
   ],
   "source": [
    "# Sample 1D array\n",
    "X = np.random.randn(100) \n",
    "\n",
    "# Number of bootstrap samples\n",
    "N = 1000\n",
    "\n",
    "# Perform the bootstrapping\n",
    "bootstrapped_means = []\n",
    "for _ in range(N):\n",
    "    # Resample with replacement\n",
    "    sample = np.random.choice(X, size=len(X), replace=True)\n",
    "    \n",
    "    # Compute the mean of the sample\n",
    "    bootstrapped_means.append(np.mean(sample))\n",
    "\n",
    "# Convert to a NumPy array for easy percentile calculation\n",
    "bootstrapped_means = np.array(bootstrapped_means)\n",
    "\n",
    "# Compute the 95% confidence interval using percentiles\n",
    "lower_bound = np.percentile(bootstrapped_means, 2.5)\n",
    "upper_bound = np.percentile(bootstrapped_means, 97.5)\n",
    "\n",
    "print(f\"Original mean: {np.mean(X):.4f}\")\n",
    "print(f\"Bootstrapped 95% Confidence Interval for the mean: ({lower_bound:.4f}, {upper_bound:.4f})\")"
   ]
  },
  {
   "cell_type": "code",
   "execution_count": null,
   "metadata": {},
   "outputs": [],
   "source": []
  }
 ],
 "metadata": {
  "kernelspec": {
   "display_name": "pydata",
   "language": "python",
   "name": "python3"
  },
  "language_info": {
   "codemirror_mode": {
    "name": "ipython",
    "version": 3
   },
   "file_extension": ".py",
   "mimetype": "text/x-python",
   "name": "python",
   "nbconvert_exporter": "python",
   "pygments_lexer": "ipython3",
   "version": "3.13.5"
  }
 },
 "nbformat": 4,
 "nbformat_minor": 4
}
