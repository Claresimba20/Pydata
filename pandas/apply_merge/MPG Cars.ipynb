{
 "cells": [
  {
   "cell_type": "markdown",
   "metadata": {},
   "source": [
    "# MPG Cars"
   ]
  },
  {
   "cell_type": "markdown",
   "metadata": {},
   "source": [
    "### Introduction:\n",
    "\n",
    "The following exercise utilizes data from [UC Irvine Machine Learning Repository](https://archive.ics.uci.edu/ml/datasets/Auto+MPG)\n",
    "\n",
    "### Step 1. Import the necessary libraries"
   ]
  },
  {
   "cell_type": "code",
   "execution_count": 2,
   "metadata": {
    "collapsed": false
   },
   "outputs": [],
   "source": [
    "import pandas as pd\n",
    "import numpy as np"
   ]
  },
  {
   "cell_type": "markdown",
   "metadata": {},
   "source": [
    "### Step 2. Import the first dataset [cars1](https://raw.githubusercontent.com/guipsamora/pandas_exercises/master/05_Merge/Auto_MPG/cars1.csv) and [cars2](https://raw.githubusercontent.com/guipsamora/pandas_exercises/master/05_Merge/Auto_MPG/cars2.csv).  "
   ]
  },
  {
   "cell_type": "code",
   "execution_count": 3,
   "metadata": {},
   "outputs": [],
   "source": [
    "url_cars1 ='https://raw.githubusercontent.com/guipsamora/pandas_exercises/master/05_Merge/Auto_MPG/cars1.csv'\n",
    "url_cars2='https://raw.githubusercontent.com/guipsamora/pandas_exercises/master/05_Merge/Auto_MPG/cars2.csv'"
   ]
  },
  {
   "cell_type": "markdown",
   "metadata": {},
   "source": [
    "   ### Step 3. Assign each to a variable called cars1 and cars2"
   ]
  },
  {
   "cell_type": "code",
   "execution_count": 4,
   "metadata": {
    "collapsed": false
   },
   "outputs": [
    {
     "name": "stdout",
     "output_type": "stream",
     "text": [
      "Cars1 Head:\n",
      "    mpg  cylinders  displacement horsepower  weight  acceleration  model  \\\n",
      "0  18.0          8           307        130    3504          12.0     70   \n",
      "1  15.0          8           350        165    3693          11.5     70   \n",
      "2  18.0          8           318        150    3436          11.0     70   \n",
      "3  16.0          8           304        150    3433          12.0     70   \n",
      "4  17.0          8           302        140    3449          10.5     70   \n",
      "\n",
      "   origin                        car  Unnamed: 9  Unnamed: 10  Unnamed: 11  \\\n",
      "0       1  chevrolet chevelle malibu         NaN          NaN          NaN   \n",
      "1       1          buick skylark 320         NaN          NaN          NaN   \n",
      "2       1         plymouth satellite         NaN          NaN          NaN   \n",
      "3       1              amc rebel sst         NaN          NaN          NaN   \n",
      "4       1                ford torino         NaN          NaN          NaN   \n",
      "\n",
      "   Unnamed: 12  Unnamed: 13  \n",
      "0          NaN          NaN  \n",
      "1          NaN          NaN  \n",
      "2          NaN          NaN  \n",
      "3          NaN          NaN  \n",
      "4          NaN          NaN  \n"
     ]
    }
   ],
   "source": [
    "cars1 = pd.read_csv(url_cars1)\n",
    "cars2 = pd.read_csv(url_cars2)\n",
    "\n",
    "print(\"Cars1 Head:\")\n",
    "print(cars1.head())"
   ]
  },
  {
   "cell_type": "markdown",
   "metadata": {},
   "source": [
    "### Step 4. Oops, it seems our first dataset has some unnamed blank columns, fix cars1"
   ]
  },
  {
   "cell_type": "code",
   "execution_count": null,
   "metadata": {
    "collapsed": false
   },
   "outputs": [
    {
     "name": "stdout",
     "output_type": "stream",
     "text": [
      "\n",
      "Cars1 Head (Fixed):\n",
      "    mpg  cylinders  displacement horsepower  weight  acceleration  model  \\\n",
      "0  18.0          8           307        130    3504          12.0     70   \n",
      "1  15.0          8           350        165    3693          11.5     70   \n",
      "2  18.0          8           318        150    3436          11.0     70   \n",
      "3  16.0          8           304        150    3433          12.0     70   \n",
      "4  17.0          8           302        140    3449          10.5     70   \n",
      "\n",
      "   origin                        car  \n",
      "0       1  chevrolet chevelle malibu  \n",
      "1       1          buick skylark 320  \n",
      "2       1         plymouth satellite  \n",
      "3       1              amc rebel sst  \n",
      "4       1                ford torino  \n"
     ]
    }
   ],
   "source": [
    "\n",
    "unnamed_cols = [col for col in cars1.columns if 'Unnamed']\n",
    "cars1 = cars1.drop(columns=unnamed_cols)\n",
    "\n",
    "print(\"\\nCars1 Head (Fixed):\")\n",
    "print(cars1.head())"
   ]
  },
  {
   "cell_type": "markdown",
   "metadata": {},
   "source": [
    "### Step 5. What is the number of observations in each dataset?"
   ]
  },
  {
   "cell_type": "code",
   "execution_count": 6,
   "metadata": {
    "collapsed": false
   },
   "outputs": [
    {
     "name": "stdout",
     "output_type": "stream",
     "text": [
      "\n",
      "Number of observations in cars1: 198\n",
      "Number of observations in cars2: 200\n"
     ]
    }
   ],
   "source": [
    "num_cars1 = len(cars1)\n",
    "num_cars2 = len(cars2)\n",
    "\n",
    "print(f\"\\nNumber of observations in cars1: {num_cars1}\")\n",
    "print(f\"Number of observations in cars2: {num_cars2}\")"
   ]
  },
  {
   "cell_type": "markdown",
   "metadata": {},
   "source": [
    "### Step 6. Join cars1 and cars2 into a single DataFrame called cars"
   ]
  },
  {
   "cell_type": "code",
   "execution_count": 7,
   "metadata": {
    "collapsed": false
   },
   "outputs": [
    {
     "name": "stdout",
     "output_type": "stream",
     "text": [
      "\n",
      "Merged 'cars' DataFrame Head:\n",
      "    mpg  cylinders  displacement horsepower  weight  acceleration  model  \\\n",
      "0  18.0          8           307        130    3504          12.0     70   \n",
      "1  15.0          8           350        165    3693          11.5     70   \n",
      "2  18.0          8           318        150    3436          11.0     70   \n",
      "3  16.0          8           304        150    3433          12.0     70   \n",
      "4  17.0          8           302        140    3449          10.5     70   \n",
      "\n",
      "   origin                        car  \n",
      "0       1  chevrolet chevelle malibu  \n",
      "1       1          buick skylark 320  \n",
      "2       1         plymouth satellite  \n",
      "3       1              amc rebel sst  \n",
      "4       1                ford torino  \n",
      "\n",
      "Merged 'cars' DataFrame Tail:\n",
      "      mpg  cylinders  displacement horsepower  weight  acceleration  model  \\\n",
      "393  27.0          4           140         86    2790          15.6     82   \n",
      "394  44.0          4            97         52    2130          24.6     82   \n",
      "395  32.0          4           135         84    2295          11.6     82   \n",
      "396  28.0          4           120         79    2625          18.6     82   \n",
      "397  31.0          4           119         82    2720          19.4     82   \n",
      "\n",
      "     origin              car  \n",
      "393       1  ford mustang gl  \n",
      "394       2        vw pickup  \n",
      "395       1    dodge rampage  \n",
      "396       1      ford ranger  \n",
      "397       1       chevy s-10  \n"
     ]
    }
   ],
   "source": [
    "cars = pd.concat([cars1, cars2], ignore_index=True)\n",
    "\n",
    "print(\"\\nMerged 'cars' DataFrame Head:\")\n",
    "print(cars.head())\n",
    "print(\"\\nMerged 'cars' DataFrame Tail:\")\n",
    "print(cars.tail())"
   ]
  },
  {
   "cell_type": "markdown",
   "metadata": {},
   "source": [
    "### Step 7. Oops, there is a column missing, called owners. Create a random number Series from 15,000 to 73,000."
   ]
  },
  {
   "cell_type": "code",
   "execution_count": 8,
   "metadata": {
    "collapsed": false
   },
   "outputs": [
    {
     "name": "stdout",
     "output_type": "stream",
     "text": [
      "\n",
      "'owners' Series Head:\n",
      "0    58206\n",
      "1    45316\n",
      "2    50651\n",
      "3    37496\n",
      "4    54075\n",
      "dtype: int32\n"
     ]
    }
   ],
   "source": [
    "\n",
    "total_obs = len(cars)\n",
    "owners = pd.Series(np.random.randint(low=15000, high=73000, size=total_obs))\n",
    "\n",
    "print(\"\\n'owners' Series Head:\")\n",
    "print(owners.head())"
   ]
  },
  {
   "cell_type": "markdown",
   "metadata": {},
   "source": [
    "### Step 8. Add the column owners to cars"
   ]
  },
  {
   "cell_type": "code",
   "execution_count": 9,
   "metadata": {
    "collapsed": false
   },
   "outputs": [
    {
     "name": "stdout",
     "output_type": "stream",
     "text": [
      "\n",
      "Final 'cars' DataFrame with 'owners' column:\n",
      "      mpg  cylinders  displacement horsepower  weight  acceleration  model  \\\n",
      "393  27.0          4           140         86    2790          15.6     82   \n",
      "394  44.0          4            97         52    2130          24.6     82   \n",
      "395  32.0          4           135         84    2295          11.6     82   \n",
      "396  28.0          4           120         79    2625          18.6     82   \n",
      "397  31.0          4           119         82    2720          19.4     82   \n",
      "\n",
      "     origin              car  owners  \n",
      "393       1  ford mustang gl   70484  \n",
      "394       2        vw pickup   18159  \n",
      "395       1    dodge rampage   54185  \n",
      "396       1      ford ranger   15728  \n",
      "397       1       chevy s-10   67152  \n"
     ]
    }
   ],
   "source": [
    "cars['owners'] = owners\n",
    "\n",
    "print(\"\\nFinal 'cars' DataFrame with 'owners' column:\")\n",
    "print(cars.tail())"
   ]
  }
 ],
 "metadata": {
  "anaconda-cloud": {},
  "kernelspec": {
   "display_name": "venv",
   "language": "python",
   "name": "python3"
  },
  "language_info": {
   "codemirror_mode": {
    "name": "ipython",
    "version": 3
   },
   "file_extension": ".py",
   "mimetype": "text/x-python",
   "name": "python",
   "nbconvert_exporter": "python",
   "pygments_lexer": "ipython3",
   "version": "3.13.5"
  }
 },
 "nbformat": 4,
 "nbformat_minor": 0
}
