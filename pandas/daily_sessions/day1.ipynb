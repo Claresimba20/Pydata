{
 "cells": [
  {
   "cell_type": "code",
   "execution_count": 3,
   "id": "08f5127c",
   "metadata": {},
   "outputs": [],
   "source": [
    "import pandas as pd"
   ]
  },
  {
   "cell_type": "code",
   "execution_count": 4,
   "id": "f5130868",
   "metadata": {},
   "outputs": [],
   "source": [
    "import numpy as np"
   ]
  },
  {
   "cell_type": "code",
   "execution_count": 5,
   "id": "b66ddfd0",
   "metadata": {},
   "outputs": [
    {
     "name": "stdout",
     "output_type": "stream",
     "text": [
      "0    10.2\n",
      "1    26.5\n",
      "2    45.2\n",
      "dtype: float64\n"
     ]
    }
   ],
   "source": [
    "a=pd.Series([10.2,26.5,45.2])\n",
    "print(a)"
   ]
  },
  {
   "cell_type": "code",
   "execution_count": 5,
   "id": "540f7075",
   "metadata": {},
   "outputs": [],
   "source": [
    "b= pd.Series([10.2,26.5,45.2],name=\"height\")"
   ]
  },
  {
   "cell_type": "code",
   "execution_count": 6,
   "id": "deb2feb2",
   "metadata": {},
   "outputs": [
    {
     "name": "stdout",
     "output_type": "stream",
     "text": [
      "0    10.2\n",
      "1    26.5\n",
      "2    45.2\n",
      "Name: height, dtype: float64\n"
     ]
    }
   ],
   "source": [
    "print(b)"
   ]
  },
  {
   "cell_type": "code",
   "execution_count": 9,
   "id": "549d7b47",
   "metadata": {},
   "outputs": [],
   "source": [
    "c= pd.Series([10.2,26.5,45.2],name=\"height\",index=[\"a\",\"b\",\"c\"])"
   ]
  },
  {
   "cell_type": "code",
   "execution_count": 10,
   "id": "3ef54789",
   "metadata": {},
   "outputs": [
    {
     "name": "stdout",
     "output_type": "stream",
     "text": [
      "a    10.2\n",
      "b    26.5\n",
      "c    45.2\n",
      "Name: height, dtype: float64\n"
     ]
    }
   ],
   "source": [
    "print(c)"
   ]
  },
  {
   "cell_type": "code",
   "execution_count": 11,
   "id": "fdc6153f",
   "metadata": {},
   "outputs": [],
   "source": [
    "population={\"Nairobi\":150000,\"Mombasa\":250000,\"Kitale\":100000}"
   ]
  },
  {
   "cell_type": "code",
   "execution_count": 12,
   "id": "8495495f",
   "metadata": {},
   "outputs": [],
   "source": [
    "pop=pd.Series(population)"
   ]
  },
  {
   "cell_type": "code",
   "execution_count": 13,
   "id": "592b3811",
   "metadata": {},
   "outputs": [
    {
     "name": "stdout",
     "output_type": "stream",
     "text": [
      "Nairobi    150000\n",
      "Mombasa    250000\n",
      "Kitale     100000\n",
      "dtype: int64\n"
     ]
    }
   ],
   "source": [
    "print(pop)"
   ]
  },
  {
   "cell_type": "code",
   "execution_count": 14,
   "id": "ff8b1e0a",
   "metadata": {},
   "outputs": [
    {
     "data": {
      "text/plain": [
       "array([150000, 250000, 100000])"
      ]
     },
     "execution_count": 14,
     "metadata": {},
     "output_type": "execute_result"
    }
   ],
   "source": [
    "pop.values"
   ]
  },
  {
   "cell_type": "code",
   "execution_count": 15,
   "id": "a6ba2ef6",
   "metadata": {},
   "outputs": [
    {
     "data": {
      "text/plain": [
       "Index(['Nairobi', 'Mombasa', 'Kitale'], dtype='object')"
      ]
     },
     "execution_count": 15,
     "metadata": {},
     "output_type": "execute_result"
    }
   ],
   "source": [
    "pop.index"
   ]
  },
  {
   "cell_type": "code",
   "execution_count": 16,
   "id": "5a9fcdea",
   "metadata": {},
   "outputs": [],
   "source": [
    "#Dataframe\n",
    "area= {\"Nairobi\":150,\"Mombasa\":250,\"Kitale\":100}"
   ]
  },
  {
   "cell_type": "code",
   "execution_count": 17,
   "id": "faad31ea",
   "metadata": {},
   "outputs": [],
   "source": [
    "population={\"Nairobi\":150000,\"Mombasa\":250000,\"Kitale\":100000}"
   ]
  },
  {
   "cell_type": "code",
   "execution_count": 19,
   "id": "b3c7f231",
   "metadata": {},
   "outputs": [],
   "source": [
    "#pd.DataFrame\n",
    "regions=({\"pop\":population,\"cubicmeters\":area})"
   ]
  },
  {
   "cell_type": "code",
   "execution_count": 20,
   "id": "cb7ca8da",
   "metadata": {},
   "outputs": [
    {
     "name": "stdout",
     "output_type": "stream",
     "text": [
      "{'pop': {'Nairobi': 150000, 'Mombasa': 250000, 'Kitale': 100000}, 'cubicmeters': {'Nairobi': 150, 'Mombasa': 250, 'Kitale': 100}}\n"
     ]
    }
   ],
   "source": [
    "print(regions)"
   ]
  },
  {
   "cell_type": "code",
   "execution_count": null,
   "id": "63b3a944",
   "metadata": {},
   "outputs": [],
   "source": [
    "data={\n",
    "    \"Name\":[\"Atieno\",\"Awendy\",\"Simba\"],\n",
    "      \"Module\":[\"Python\",\"Pydata\",\"Gendata\"]\n",
    "      }"
   ]
  },
  {
   "cell_type": "code",
   "execution_count": null,
   "id": "251fbd5d",
   "metadata": {},
   "outputs": [],
   "source": [
    "#indexing and selection\n"
   ]
  }
 ],
 "metadata": {
  "kernelspec": {
   "display_name": "pydata",
   "language": "python",
   "name": "python3"
  },
  "language_info": {
   "codemirror_mode": {
    "name": "ipython",
    "version": 3
   },
   "file_extension": ".py",
   "mimetype": "text/x-python",
   "name": "python",
   "nbconvert_exporter": "python",
   "pygments_lexer": "ipython3",
   "version": "3.13.5"
  }
 },
 "nbformat": 4,
 "nbformat_minor": 5
}
