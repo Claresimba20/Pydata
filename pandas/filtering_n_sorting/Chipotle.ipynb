{
 "cells": [
  {
   "cell_type": "markdown",
   "metadata": {},
   "source": [
    "# Ex1 - Filtering and Sorting Data"
   ]
  },
  {
   "cell_type": "markdown",
   "metadata": {},
   "source": [
    "This time we are going to pull data directly from the internet.\n",
    "Special thanks to: https://github.com/justmarkham for sharing the dataset and materials.\n",
    "\n",
    "### Step 1. Import the necessary libraries"
   ]
  },
  {
   "cell_type": "code",
   "execution_count": 1,
   "metadata": {
    "collapsed": false
   },
   "outputs": [],
   "source": [
    "import pandas  as pd"
   ]
  },
  {
   "cell_type": "markdown",
   "metadata": {},
   "source": [
    "### Step 2. Import the dataset from this [address](https://raw.githubusercontent.com/justmarkham/DAT8/master/data/chipotle.tsv). "
   ]
  },
  {
   "cell_type": "markdown",
   "metadata": {},
   "source": [
    "### Step 3. Assign it to a variable called chipo."
   ]
  },
  {
   "cell_type": "code",
   "execution_count": 3,
   "metadata": {
    "collapsed": false
   },
   "outputs": [],
   "source": [
    "chipo=pd.read_csv(\"https://raw.githubusercontent.com/justmarkham/DAT8/master/data/chipotle.tsv\",sep='\\t')"
   ]
  },
  {
   "cell_type": "markdown",
   "metadata": {},
   "source": [
    "### Step 4. How many products cost more than $10.00?"
   ]
  },
  {
   "cell_type": "code",
   "execution_count": 5,
   "metadata": {
    "collapsed": false
   },
   "outputs": [],
   "source": [
    "#item_price into float\n",
    "chipo['item_price']=chipo['item_price'].str.replace('$','').astype(float)"
   ]
  },
  {
   "cell_type": "code",
   "execution_count": 6,
   "metadata": {},
   "outputs": [
    {
     "name": "stdout",
     "output_type": "stream",
     "text": [
      "<class 'pandas.core.frame.DataFrame'>\n",
      "RangeIndex: 4622 entries, 0 to 4621\n",
      "Data columns (total 5 columns):\n",
      " #   Column              Non-Null Count  Dtype  \n",
      "---  ------              --------------  -----  \n",
      " 0   order_id            4622 non-null   int64  \n",
      " 1   quantity            4622 non-null   int64  \n",
      " 2   item_name           4622 non-null   object \n",
      " 3   choice_description  3376 non-null   object \n",
      " 4   item_price          4622 non-null   float64\n",
      "dtypes: float64(1), int64(2), object(2)\n",
      "memory usage: 180.7+ KB\n"
     ]
    }
   ],
   "source": [
    "chipo.info()"
   ]
  },
  {
   "cell_type": "code",
   "execution_count": 11,
   "metadata": {},
   "outputs": [
    {
     "name": "stdout",
     "output_type": "stream",
     "text": [
      "\n",
      "Number of products that cost more than $10.00: 31\n"
     ]
    }
   ],
   "source": [
    "\n",
    "chipo_unique = chipo.drop_duplicates(subset=['item_name', 'item_price'])\n",
    "products_over_10 = chipo_unique[chipo_unique['item_price'] > 10.00]\n",
    "\n",
    "num_products = products_over_10['item_name'].nunique()\n",
    "print(f\"\\nNumber of products that cost more than $10.00: {num_products}\")"
   ]
  },
  {
   "cell_type": "markdown",
   "metadata": {},
   "source": [
    "### Step 5. What is the price of each item? \n",
    "###### print a data frame with only two columns item_name and item_price"
   ]
  },
  {
   "cell_type": "code",
   "execution_count": null,
   "metadata": {},
   "outputs": [
    {
     "name": "stdout",
     "output_type": "stream",
     "text": [
      "\n",
      "Price of Each Item:\n",
      "                                  item_name  item_price\n",
      "0              Chips and Fresh Tomato Salsa        2.39\n",
      "1                                      Izze        3.39\n",
      "2                          Nantucket Nectar        3.39\n",
      "3     Chips and Tomatillo-Green Chili Salsa        2.39\n",
      "4                              Chicken Bowl       16.98\n",
      "...                                     ...         ...\n",
      "4237                    Chips and Guacamole        8.50\n",
      "4354                       Steak Soft Tacos       18.50\n",
      "4489                    Chips and Guacamole       17.80\n",
      "4509                                  Chips        1.99\n",
      "4510                          Barbacoa Bowl       11.49\n",
      "\n",
      "[209 rows x 2 columns]\n"
     ]
    }
   ],
   "source": [
    "\n",
    "item_prices = chipo[['item_name', 'item_price']].drop_duplicates()\n",
    "\n",
    "print(\"\\nPrice of Each Item:\")\n",
    "print(item_prices)"
   ]
  },
  {
   "cell_type": "markdown",
   "metadata": {},
   "source": [
    "### Step 6. Sort by the name of the item"
   ]
  },
  {
   "cell_type": "code",
   "execution_count": 13,
   "metadata": {},
   "outputs": [
    {
     "name": "stdout",
     "output_type": "stream",
     "text": [
      "\n",
      "Item Prices Sorted by Name:\n",
      "              item_name  item_price\n",
      "3389  6 Pack Soft Drink       12.98\n",
      "298   6 Pack Soft Drink        6.49\n",
      "4510      Barbacoa Bowl       11.49\n",
      "3195      Barbacoa Bowl        8.69\n",
      "95        Barbacoa Bowl        9.25\n",
      "115       Barbacoa Bowl        8.99\n",
      "39        Barbacoa Bowl       11.75\n",
      "471       Barbacoa Bowl       11.48\n",
      "1648   Barbacoa Burrito       11.08\n",
      "81     Barbacoa Burrito        9.25\n"
     ]
    }
   ],
   "source": [
    "\n",
    "sorted_item_prices = item_prices.sort_values(by='item_name')\n",
    "\n",
    "print(\"\\nItem Prices Sorted by Name:\")\n",
    "print(sorted_item_prices.head(10))"
   ]
  },
  {
   "cell_type": "markdown",
   "metadata": {},
   "source": [
    "### Step 7. What was the quantity of the most expensive item ordered?"
   ]
  },
  {
   "cell_type": "code",
   "execution_count": 14,
   "metadata": {
    "collapsed": false
   },
   "outputs": [
    {
     "name": "stdout",
     "output_type": "stream",
     "text": [
      "\n",
      "The most expensive item ordered was 'Chips and Fresh Tomato Salsa'.\n",
      "The quantity of that item ordered in that transaction line was: 15\n"
     ]
    }
   ],
   "source": [
    "\n",
    "most_expensive_item_row = chipo.sort_values(by='item_price', ascending=False).iloc[0]\n",
    "\n",
    "quantity_of_most_expensive = most_expensive_item_row['quantity']\n",
    "item_name = most_expensive_item_row['item_name']\n",
    "\n",
    "print(f\"\\nThe most expensive item ordered was '{item_name}'.\")\n",
    "print(f\"The quantity of that item ordered in that transaction line was: {quantity_of_most_expensive}\")"
   ]
  },
  {
   "cell_type": "markdown",
   "metadata": {},
   "source": [
    "### Step 8. How many times was a Veggie Salad Bowl ordered?"
   ]
  },
  {
   "cell_type": "code",
   "execution_count": 15,
   "metadata": {
    "collapsed": false
   },
   "outputs": [
    {
     "name": "stdout",
     "output_type": "stream",
     "text": [
      "\n",
      "The 'Veggie Salad Bowl' was ordered (appeared on a line item) 18 times.\n"
     ]
    }
   ],
   "source": [
    "\n",
    "veggie_salad_orders = chipo[chipo['item_name'] == 'Veggie Salad Bowl']\n",
    "\n",
    "count_veggie_salad = len(veggie_salad_orders)\n",
    "\n",
    "print(f\"\\nThe 'Veggie Salad Bowl' was ordered (appeared on a line item) {count_veggie_salad} times.\")"
   ]
  },
  {
   "cell_type": "markdown",
   "metadata": {},
   "source": [
    "### Step 9. How many times did someone order more than one Canned Soda?"
   ]
  },
  {
   "cell_type": "code",
   "execution_count": 16,
   "metadata": {
    "collapsed": false
   },
   "outputs": [
    {
     "name": "stdout",
     "output_type": "stream",
     "text": [
      "\n",
      "The number of times someone ordered more than one Canned Soda (per line item) was: 20\n"
     ]
    }
   ],
   "source": [
    "\n",
    "canned_soda_orders = chipo[chipo['item_name'] == 'Canned Soda']\n",
    "\n",
    "multiple_canned_soda = canned_soda_orders[canned_soda_orders['quantity'] > 1]\n",
    "\n",
    "count_multiple_canned_soda = len(multiple_canned_soda)\n",
    "\n",
    "print(f\"\\nThe number of times someone ordered more than one Canned Soda (per line item) was: {count_multiple_canned_soda}\")"
   ]
  }
 ],
 "metadata": {
  "kernelspec": {
   "display_name": "venv",
   "language": "python",
   "name": "python3"
  },
  "language_info": {
   "codemirror_mode": {
    "name": "ipython",
    "version": 3
   },
   "file_extension": ".py",
   "mimetype": "text/x-python",
   "name": "python",
   "nbconvert_exporter": "python",
   "pygments_lexer": "ipython3",
   "version": "3.13.5"
  }
 },
 "nbformat": 4,
 "nbformat_minor": 0
}
