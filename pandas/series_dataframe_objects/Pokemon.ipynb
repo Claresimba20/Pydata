{
 "cells": [
  {
   "cell_type": "markdown",
   "metadata": {},
   "source": [
    "# Pokemon"
   ]
  },
  {
   "cell_type": "markdown",
   "metadata": {},
   "source": [
    "### Introduction:\n",
    "\n",
    "This time you will create the data.\n",
    "\n",
    "\n",
    "\n",
    "### Step 1. Import the necessary libraries"
   ]
  },
  {
   "cell_type": "code",
   "execution_count": 1,
   "metadata": {},
   "outputs": [],
   "source": [
    "import pandas as pd\n",
    "import numpy as np"
   ]
  },
  {
   "cell_type": "markdown",
   "metadata": {},
   "source": [
    "### Step 2. Create a data dictionary that looks like the DataFrame below"
   ]
  },
  {
   "cell_type": "code",
   "execution_count": 2,
   "metadata": {
    "collapsed": true
   },
   "outputs": [],
   "source": [
    "data = {\n",
    "    'name': ['Bulbasaur', 'Charmander', 'Squirtle', 'Caterpie', 'Pikachu', 'Jigglypuff', 'Meowth'],\n",
    "    'type': ['Grass', 'Fire', 'Water', 'Bug', 'Electric', 'Normal', 'Normal'],\n",
    "    'hp': [45, 39, 44, 45, 35, 115, 40],\n",
    "    'evolution': ['Ivysaur', 'Charmeleon', 'Wartortle', 'Metapod', 'Raichu', 'Wigglytuff', 'Persian'],\n",
    "    'pokedex': [1, 4, 7, 10, 25, 39, 52]\n",
    "}"
   ]
  },
  {
   "cell_type": "markdown",
   "metadata": {},
   "source": [
    "### Step 3. Assign it to a variable called pokemon"
   ]
  },
  {
   "cell_type": "code",
   "execution_count": 3,
   "metadata": {
    "collapsed": false
   },
   "outputs": [
    {
     "name": "stdout",
     "output_type": "stream",
     "text": [
      "Initial DataFrame:\n",
      "         name      type   hp   evolution  pokedex\n",
      "0   Bulbasaur     Grass   45     Ivysaur        1\n",
      "1  Charmander      Fire   39  Charmeleon        4\n",
      "2    Squirtle     Water   44   Wartortle        7\n",
      "3    Caterpie       Bug   45     Metapod       10\n",
      "4     Pikachu  Electric   35      Raichu       25\n",
      "5  Jigglypuff    Normal  115  Wigglytuff       39\n",
      "6      Meowth    Normal   40     Persian       52\n"
     ]
    }
   ],
   "source": [
    "pokemon = pd.DataFrame(data)\n",
    "print(\"Initial DataFrame:\")\n",
    "print(pokemon)"
   ]
  },
  {
   "cell_type": "markdown",
   "metadata": {},
   "source": [
    "### Step 4. Ops...it seems the DataFrame columns are in alphabetical order. Place  the order of the columns as name, type, hp, evolution, pokedex"
   ]
  },
  {
   "cell_type": "code",
   "execution_count": 4,
   "metadata": {
    "collapsed": false
   },
   "outputs": [
    {
     "name": "stdout",
     "output_type": "stream",
     "text": [
      "\n",
      "Reordered DataFrame:\n",
      "         name      type   hp   evolution  pokedex\n",
      "0   Bulbasaur     Grass   45     Ivysaur        1\n",
      "1  Charmander      Fire   39  Charmeleon        4\n",
      "2    Squirtle     Water   44   Wartortle        7\n",
      "3    Caterpie       Bug   45     Metapod       10\n",
      "4     Pikachu  Electric   35      Raichu       25\n",
      "5  Jigglypuff    Normal  115  Wigglytuff       39\n",
      "6      Meowth    Normal   40     Persian       52\n"
     ]
    }
   ],
   "source": [
    "\n",
    "desired_order = ['name', 'type', 'hp', 'evolution', 'pokedex']\n",
    "\n",
    "pokemon = pokemon[desired_order]\n",
    "print(\"\\nReordered DataFrame:\")\n",
    "print(pokemon)"
   ]
  },
  {
   "cell_type": "markdown",
   "metadata": {},
   "source": [
    "### Step 5. Add another column called place, and insert what you have in mind."
   ]
  },
  {
   "cell_type": "code",
   "execution_count": 5,
   "metadata": {
    "collapsed": false
   },
   "outputs": [
    {
     "name": "stdout",
     "output_type": "stream",
     "text": [
      "\n",
      "DataFrame with 'place' column:\n",
      "         name      type   hp   evolution  pokedex        place\n",
      "0   Bulbasaur     Grass   45     Ivysaur        1       Forest\n",
      "1  Charmander      Fire   39  Charmeleon        4      Volcano\n",
      "2    Squirtle     Water   44   Wartortle        7        Ocean\n",
      "3    Caterpie       Bug   45     Metapod       10        Trees\n",
      "4     Pikachu  Electric   35      Raichu       25  Power Plant\n",
      "5  Jigglypuff    Normal  115  Wigglytuff       39         Cave\n",
      "6      Meowth    Normal   40     Persian       52         City\n"
     ]
    }
   ],
   "source": [
    "\n",
    "places = ['Forest', 'Volcano', 'Ocean', 'Trees', 'Power Plant', 'Cave', 'City']\n",
    "\n",
    "pokemon['place'] = places\n",
    "print(\"\\nDataFrame with 'place' column:\")\n",
    "print(pokemon)"
   ]
  },
  {
   "cell_type": "markdown",
   "metadata": {},
   "source": [
    "### Step 6. Present the type of each column"
   ]
  },
  {
   "cell_type": "code",
   "execution_count": 6,
   "metadata": {
    "collapsed": false
   },
   "outputs": [
    {
     "name": "stdout",
     "output_type": "stream",
     "text": [
      "\n",
      "Data Types (dtypes):\n",
      "name         object\n",
      "type         object\n",
      "hp            int64\n",
      "evolution    object\n",
      "pokedex       int64\n",
      "place        object\n",
      "dtype: object\n"
     ]
    }
   ],
   "source": [
    "print(\"\\nData Types (dtypes):\")\n",
    "print(pokemon.dtypes)"
   ]
  },
  {
   "cell_type": "markdown",
   "metadata": {},
   "source": [
    "### BONUS: Create your own question and answer it."
   ]
  },
  {
   "cell_type": "markdown",
   "metadata": {},
   "source": [
    "Which pokemon has the highest HP and what is its place?"
   ]
  },
  {
   "cell_type": "code",
   "execution_count": 7,
   "metadata": {
    "collapsed": true
   },
   "outputs": [
    {
     "name": "stdout",
     "output_type": "stream",
     "text": [
      "\n",
      "--- BONUS QUESTION ANSWER ---\n",
      "Pokemon with the highest HP:\n",
      "Name: Jigglypuff\n",
      "HP: 115\n",
      "Place: Cave\n"
     ]
    }
   ],
   "source": [
    "\n",
    "strongest_pokemon = pokemon.loc[pokemon['hp'].idxmax()]\n",
    "\n",
    "print(\"\\n--- BONUS QUESTION ANSWER ---\")\n",
    "print(\"Pokemon with the highest HP:\")\n",
    "print(f\"Name: {strongest_pokemon['name']}\")\n",
    "print(f\"HP: {strongest_pokemon['hp']}\")\n",
    "print(f\"Place: {strongest_pokemon['place']}\")"
   ]
  }
 ],
 "metadata": {
  "kernelspec": {
   "display_name": "venv",
   "language": "python",
   "name": "python3"
  },
  "language_info": {
   "codemirror_mode": {
    "name": "ipython",
    "version": 3
   },
   "file_extension": ".py",
   "mimetype": "text/x-python",
   "name": "python",
   "nbconvert_exporter": "python",
   "pygments_lexer": "ipython3",
   "version": "3.13.5"
  }
 },
 "nbformat": 4,
 "nbformat_minor": 0
}
